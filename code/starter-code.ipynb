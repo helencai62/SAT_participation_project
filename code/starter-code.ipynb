{
 "cells": [
  {
   "cell_type": "markdown",
   "metadata": {},
   "source": [
    "# Project 1"
   ]
  },
  {
   "cell_type": "markdown",
   "metadata": {},
   "source": [
    "## Step 1: Load the data and perform basic operations."
   ]
  },
  {
   "cell_type": "markdown",
   "metadata": {},
   "source": [
    "##### 1. Load the data in using pandas."
   ]
  },
  {
   "cell_type": "code",
   "execution_count": 150,
   "metadata": {},
   "outputs": [],
   "source": [
    "sat_csv = \"/Users/chelen/Documents/ga/wk2/project-1/data/sat.csv\"\n",
    "act_csv = \"/Users/chelen/Documents/ga/wk2/project-1/data/act.csv\"\n",
    "\n",
    "import pandas as pd\n",
    "sat = pd.read_csv(sat_csv)\n",
    "act = pd.read_csv(act_csv)\n",
    "\n",
    "#if we wanted to extract a variable in csv:\n",
    "    #salary = ath['Total Pay'].values.tolist()"
   ]
  },
  {
   "cell_type": "markdown",
   "metadata": {},
   "source": [
    "##### 2. Print the first ten rows of each dataframe."
   ]
  },
  {
   "cell_type": "code",
   "execution_count": 151,
   "metadata": {},
   "outputs": [
    {
     "name": "stdout",
     "output_type": "stream",
     "text": [
      "   Unnamed: 0                 State Participation  \\\n",
      "0           0               Alabama            5%   \n",
      "1           1                Alaska           38%   \n",
      "2           2               Arizona           30%   \n",
      "3           3              Arkansas            3%   \n",
      "4           4            California           53%   \n",
      "5           5              Colorado           11%   \n",
      "6           6           Connecticut          100%   \n",
      "7           7              Delaware          100%   \n",
      "8           8  District of Columbia          100%   \n",
      "9           9               Florida           83%   \n",
      "\n",
      "   Evidence-Based Reading and Writing  Math  Total  \n",
      "0                                 593   572   1165  \n",
      "1                                 547   533   1080  \n",
      "2                                 563   553   1116  \n",
      "3                                 614   594   1208  \n",
      "4                                 531   524   1055  \n",
      "5                                 606   595   1201  \n",
      "6                                 530   512   1041  \n",
      "7                                 503   492    996  \n",
      "8                                 482   468    950  \n",
      "9                                 520   497   1017  \n",
      "   Unnamed: 0                 State Participation  English  Math  Reading  \\\n",
      "0           0              National           60%     20.3  20.7     21.4   \n",
      "1           1               Alabama          100%     18.9  18.4     19.7   \n",
      "2           2                Alaska           65%     18.7  19.8     20.4   \n",
      "3           3               Arizona           62%     18.6  19.8     20.1   \n",
      "4           4              Arkansas          100%     18.9  19.0     19.7   \n",
      "5           5            California           31%     22.5  22.7     23.1   \n",
      "6           6              Colorado          100%     20.1  20.3     21.2   \n",
      "7           7           Connecticut           31%     25.5  24.6     25.6   \n",
      "8           8              Delaware           18%     24.1  23.4     24.8   \n",
      "9           9  District of Columbia           32%     24.4  23.5     24.9   \n",
      "\n",
      "   Science  Composite  \n",
      "0     21.0       21.0  \n",
      "1     19.4       19.2  \n",
      "2     19.9       19.8  \n",
      "3     19.8       19.7  \n",
      "4     19.5       19.4  \n",
      "5     22.2       22.8  \n",
      "6     20.9       20.8  \n",
      "7     24.6       25.2  \n",
      "8     23.6       24.1  \n",
      "9     23.5       24.2  \n"
     ]
    }
   ],
   "source": [
    "sat_df =pd.DataFrame(sat)\n",
    "act_df =pd.DataFrame(act)\n",
    "\n",
    "print(sat_df[:10])\n",
    "print(act_df[:10])"
   ]
  },
  {
   "cell_type": "markdown",
   "metadata": {},
   "source": [
    "##### 3. Describe in words what each variable (column) is."
   ]
  },
  {
   "cell_type": "raw",
   "metadata": {
    "collapsed": true
   },
   "source": [
    "SAT:\n",
    "\n",
    "Col 1. Unnamed = index\n",
    "Col 2. State = state where student took the test\n",
    "Col 3. Participation = number of students in state that took the test\n",
    "Col 4. Evidence-Based Reading and Writing = mean of student scores on portion 1 of test\n",
    "Col 5. Math = mean of student scores on portion 2 of test\n",
    "Col 6. Total = mean of aggregate student scores on both portions of test\n",
    "\n",
    "ACT:\n",
    "\n",
    "Col 1. Unnamed = index\n",
    "Col 2. State = state where student took the test\n",
    "Col 3. Participation = number of students in state that took the test\n",
    "Col 4. English = mean of student scores on english portion of test\n",
    "Col 5. Math = mean of student scores on math portion of test\n",
    "Col 6. Reading = mean of student scores on reading portion of test\n",
    "Col 7. Science = mean of student scores on science portion of test\n",
    "Col 8. Composite = mean of aggregate student scores on all portions of test"
   ]
  },
  {
   "cell_type": "markdown",
   "metadata": {},
   "source": [
    "##### 4. Does the data look complete? Are there any obvious issues with the observations?"
   ]
  },
  {
   "cell_type": "raw",
   "metadata": {
    "collapsed": true
   },
   "source": [
    "Caveats\n",
    "\n",
    "1. Only shows data for the graduating class of 2017\n",
    "2. Data collection may be skewed\n",
    "3. Students moving across states could be a contributing factor, especially in the NE"
   ]
  },
  {
   "cell_type": "markdown",
   "metadata": {},
   "source": [
    "##### 5. Print the types of each column."
   ]
  },
  {
   "cell_type": "code",
   "execution_count": 152,
   "metadata": {
    "scrolled": true
   },
   "outputs": [
    {
     "name": "stdout",
     "output_type": "stream",
     "text": [
      "Unnamed: 0                             int64\n",
      "State                                 object\n",
      "Participation                         object\n",
      "Evidence-Based Reading and Writing     int64\n",
      "Math                                   int64\n",
      "Total                                  int64\n",
      "dtype: object \n",
      "\n",
      " Unnamed: 0         int64\n",
      "State             object\n",
      "Participation     object\n",
      "English          float64\n",
      "Math             float64\n",
      "Reading          float64\n",
      "Science          float64\n",
      "Composite        float64\n",
      "dtype: object\n"
     ]
    }
   ],
   "source": [
    "print(sat_df.dtypes, '\\n\\n', act_df.dtypes)"
   ]
  },
  {
   "cell_type": "markdown",
   "metadata": {},
   "source": [
    "##### 6. Do any types need to be reassigned? If so, go ahead and do it."
   ]
  },
  {
   "cell_type": "code",
   "execution_count": 153,
   "metadata": {},
   "outputs": [
    {
     "name": "stdout",
     "output_type": "stream",
     "text": [
      "Unnamed: 0                             object\n",
      "State                                  object\n",
      "Participation                         float64\n",
      "Evidence-Based Reading and Writing      int64\n",
      "Math                                    int64\n",
      "Total                                   int64\n",
      "dtype: object\n"
     ]
    }
   ],
   "source": [
    "#print(sat_df.dtypes)\n",
    "    #should Unnamed be an int64? no\n",
    "    #should State be a string? yes\n",
    "    #should Participation be a string? no\n",
    "    #should EBRW be an int64? yes\n",
    "    #should Math be an int64? yes\n",
    "    #should Total be an int64? yes\n",
    "\n",
    "#fix Unnamed dtype\n",
    "sat['Unnamed: 0'] = sat['Unnamed: 0'].astype('str')\n",
    "\n",
    "#fix Participation dtype\n",
    "#sat_df['Participation'].apply(lambda x: x.replace('%', '')).astype('float')/100\n",
    "sat_df['Participation'] = [float(x.replace('%', ''))/100 for x in sat_df['Participation']]\n",
    "\n",
    "#QUESTION: Why do we need to set sat_df[<variable>].astype(<type>) here back to itself in order to save the new dtype?\n",
    "#sat_df['Participation'] = sat_df['Participation'].astype('float64')\n",
    "#inplace defaults to False, although below didn't seem to work\n",
    "    #sat['Unnamed: 0']=sat['Unnamed: 0'].astype('str', inplace = True)\n",
    "    \n",
    "print(sat_df.dtypes)"
   ]
  },
  {
   "cell_type": "code",
   "execution_count": 154,
   "metadata": {},
   "outputs": [
    {
     "name": "stdout",
     "output_type": "stream",
     "text": [
      "Unnamed: 0        object\n",
      "State             object\n",
      "Participation    float64\n",
      "English          float64\n",
      "Math             float64\n",
      "Reading          float64\n",
      "Science          float64\n",
      "Composite        float64\n",
      "dtype: object\n"
     ]
    }
   ],
   "source": [
    "#print(act_df.dtypes)\n",
    "    #should Unnamed be an int64? no\n",
    "    #should State be a str? yes\n",
    "    #should Participation be an object? no\n",
    "    #should English be a float64? yes\n",
    "    #should Math be a float64? yes\n",
    "    #should Reading be a float64? yes\n",
    "    #should Science be a float64? yes\n",
    "    #should Composite be a float64? yes\n",
    "\n",
    "#fix Unnamed dtype\n",
    "act['Unnamed: 0'] = act['Unnamed: 0'].astype('str')\n",
    "\n",
    "#fix Participation dtype\n",
    "act['Participation'] = [float(x.replace('%', ''))/100 for x in act_df['Participation']]\n",
    "act['Participation'] = act['Participation'].astype('float64')\n",
    "print(act_df.dtypes)"
   ]
  },
  {
   "cell_type": "markdown",
   "metadata": {},
   "source": [
    "##### 7. Create a dictionary for each column mapping the State to its respective value for that column. (For example, you should have three SAT dictionaries.)"
   ]
  },
  {
   "cell_type": "code",
   "execution_count": 155,
   "metadata": {},
   "outputs": [],
   "source": [
    "#sat\n",
    "    #ebrw_dict = { 'State': ebrw_score, ...}\n",
    "    #math_dict\n",
    "    #total_dict\n",
    "\n",
    "#can a variable by sat_df[<variable>] OR by sat_df.variable\n",
    "    #what is dict(zip(...)) doing?\n",
    "    #test = dict(zip('1', '2'))\n",
    "ebrw_dict = dict(zip(sat_df['State'], sat_df['Evidence-Based Reading and Writing']))\n",
    "math_dict = dict(zip(sat_df['State'], sat_df['Math']))\n",
    "total_dict = dict(zip(sat_df['State'], sat_df['Total']))\n",
    "\n",
    "#ebrw_dict = sat_df.set_index('State')['Evidence-Based Reading and Writing'].to_dict()\n",
    "#math_dict = sat_df.set_index('State')['Math'].to_dict()\n",
    "#total_dict = sat_df.set_index('State')['Total'].to_dict()\n",
    "\n",
    "#QUESTION: is there a .head()-esque function for dictionaries to return a preview?\n",
    "#display(ebrw_dict)\n",
    "#display(math_dict)\n",
    "#display(total_dict)"
   ]
  },
  {
   "cell_type": "code",
   "execution_count": 156,
   "metadata": {},
   "outputs": [],
   "source": [
    "#act\n",
    "    #eng_dict = { 'State': ebrw_score, ...}\n",
    "    #mathact_dict\n",
    "    #reading_dict\n",
    "    #science_dict\n",
    "    #composite_dict\n",
    "\n",
    "eng_dict = dict(zip(act_df['State'], act_df['English']))\n",
    "mathact_dict = dict(zip(act_df['State'], act_df['Math']))\n",
    "reading_dict = dict(zip(act_df['State'], act_df['Reading']))\n",
    "science_dict = dict(zip(act_df['State'], act_df['Science']))\n",
    "composite_dict = dict(zip(act_df['State'], act_df['Composite']))\n",
    "\n",
    "#display(composite_dict)"
   ]
  },
  {
   "cell_type": "markdown",
   "metadata": {},
   "source": [
    "##### 8. Create one dictionary where each key is the column name, and each value is an iterable (a list or a Pandas Series) of all the values in that column."
   ]
  },
  {
   "cell_type": "code",
   "execution_count": 157,
   "metadata": {},
   "outputs": [
    {
     "data": {
      "text/plain": [
       "dict_keys(['participation_sat', 'ebrw', 'math', 'total', 'participation_act', 'english', 'mathact', 'reading', 'science', 'composite'])"
      ]
     },
     "execution_count": 157,
     "metadata": {},
     "output_type": "execute_result"
    }
   ],
   "source": [
    "#one_dict = { column_name: list of all column values }\n",
    "    #one_dict = { [ebrw] : [ebrw_scores], [math] : [math_scores]... }\n",
    "        \n",
    "one_dict = {'participation_sat': list(sat_df['Participation']),\n",
    "            'ebrw': list(sat_df['Evidence-Based Reading and Writing']),\n",
    "            'math': list(sat_df['Math']),\n",
    "            'total': list(sat_df['Total']),\n",
    "            'participation_act': list(act_df['Participation']),\n",
    "            'english': list(act_df['English']),\n",
    "            'mathact': list(act_df['Math']),\n",
    "            'reading': list(act_df['Reading']),\n",
    "            'science': list(act_df['Science']),\n",
    "            'composite': list(act_df['Composite'])\n",
    "           }\n",
    "#returns 51 b/c includes National average row\n",
    "    #print(len(list(sat_df['Evidence-Based Reading and Writing'])))\n",
    "\n",
    "one_dict.keys()"
   ]
  },
  {
   "cell_type": "markdown",
   "metadata": {},
   "source": [
    "##### 9. Merge the dataframes on the state column."
   ]
  },
  {
   "cell_type": "code",
   "execution_count": 158,
   "metadata": {},
   "outputs": [
    {
     "data": {
      "text/html": [
       "<div>\n",
       "<style scoped>\n",
       "    .dataframe tbody tr th:only-of-type {\n",
       "        vertical-align: middle;\n",
       "    }\n",
       "\n",
       "    .dataframe tbody tr th {\n",
       "        vertical-align: top;\n",
       "    }\n",
       "\n",
       "    .dataframe thead th {\n",
       "        text-align: right;\n",
       "    }\n",
       "</style>\n",
       "<table border=\"1\" class=\"dataframe\">\n",
       "  <thead>\n",
       "    <tr style=\"text-align: right;\">\n",
       "      <th></th>\n",
       "      <th>Unnamed: 0_x</th>\n",
       "      <th>State</th>\n",
       "      <th>Participation_x</th>\n",
       "      <th>Evidence-Based Reading and Writing</th>\n",
       "      <th>Math_x</th>\n",
       "      <th>Total</th>\n",
       "      <th>Unnamed: 0_y</th>\n",
       "      <th>Participation_y</th>\n",
       "      <th>English</th>\n",
       "      <th>Math_y</th>\n",
       "      <th>Reading</th>\n",
       "      <th>Science</th>\n",
       "      <th>Composite</th>\n",
       "    </tr>\n",
       "  </thead>\n",
       "  <tbody>\n",
       "    <tr>\n",
       "      <th>0</th>\n",
       "      <td>0</td>\n",
       "      <td>Alabama</td>\n",
       "      <td>0.05</td>\n",
       "      <td>593</td>\n",
       "      <td>572</td>\n",
       "      <td>1165</td>\n",
       "      <td>1</td>\n",
       "      <td>1.00</td>\n",
       "      <td>18.9</td>\n",
       "      <td>18.4</td>\n",
       "      <td>19.7</td>\n",
       "      <td>19.4</td>\n",
       "      <td>19.2</td>\n",
       "    </tr>\n",
       "    <tr>\n",
       "      <th>1</th>\n",
       "      <td>1</td>\n",
       "      <td>Alaska</td>\n",
       "      <td>0.38</td>\n",
       "      <td>547</td>\n",
       "      <td>533</td>\n",
       "      <td>1080</td>\n",
       "      <td>2</td>\n",
       "      <td>0.65</td>\n",
       "      <td>18.7</td>\n",
       "      <td>19.8</td>\n",
       "      <td>20.4</td>\n",
       "      <td>19.9</td>\n",
       "      <td>19.8</td>\n",
       "    </tr>\n",
       "    <tr>\n",
       "      <th>2</th>\n",
       "      <td>2</td>\n",
       "      <td>Arizona</td>\n",
       "      <td>0.30</td>\n",
       "      <td>563</td>\n",
       "      <td>553</td>\n",
       "      <td>1116</td>\n",
       "      <td>3</td>\n",
       "      <td>0.62</td>\n",
       "      <td>18.6</td>\n",
       "      <td>19.8</td>\n",
       "      <td>20.1</td>\n",
       "      <td>19.8</td>\n",
       "      <td>19.7</td>\n",
       "    </tr>\n",
       "    <tr>\n",
       "      <th>3</th>\n",
       "      <td>3</td>\n",
       "      <td>Arkansas</td>\n",
       "      <td>0.03</td>\n",
       "      <td>614</td>\n",
       "      <td>594</td>\n",
       "      <td>1208</td>\n",
       "      <td>4</td>\n",
       "      <td>1.00</td>\n",
       "      <td>18.9</td>\n",
       "      <td>19.0</td>\n",
       "      <td>19.7</td>\n",
       "      <td>19.5</td>\n",
       "      <td>19.4</td>\n",
       "    </tr>\n",
       "    <tr>\n",
       "      <th>4</th>\n",
       "      <td>4</td>\n",
       "      <td>California</td>\n",
       "      <td>0.53</td>\n",
       "      <td>531</td>\n",
       "      <td>524</td>\n",
       "      <td>1055</td>\n",
       "      <td>5</td>\n",
       "      <td>0.31</td>\n",
       "      <td>22.5</td>\n",
       "      <td>22.7</td>\n",
       "      <td>23.1</td>\n",
       "      <td>22.2</td>\n",
       "      <td>22.8</td>\n",
       "    </tr>\n",
       "  </tbody>\n",
       "</table>\n",
       "</div>"
      ],
      "text/plain": [
       "  Unnamed: 0_x       State  Participation_x  \\\n",
       "0            0     Alabama             0.05   \n",
       "1            1      Alaska             0.38   \n",
       "2            2     Arizona             0.30   \n",
       "3            3    Arkansas             0.03   \n",
       "4            4  California             0.53   \n",
       "\n",
       "   Evidence-Based Reading and Writing  Math_x  Total Unnamed: 0_y  \\\n",
       "0                                 593     572   1165            1   \n",
       "1                                 547     533   1080            2   \n",
       "2                                 563     553   1116            3   \n",
       "3                                 614     594   1208            4   \n",
       "4                                 531     524   1055            5   \n",
       "\n",
       "   Participation_y  English  Math_y  Reading  Science  Composite  \n",
       "0             1.00     18.9    18.4     19.7     19.4       19.2  \n",
       "1             0.65     18.7    19.8     20.4     19.9       19.8  \n",
       "2             0.62     18.6    19.8     20.1     19.8       19.7  \n",
       "3             1.00     18.9    19.0     19.7     19.5       19.4  \n",
       "4             0.31     22.5    22.7     23.1     22.2       22.8  "
      ]
     },
     "metadata": {},
     "output_type": "display_data"
    }
   ],
   "source": [
    "merged_df =pd.merge(sat_df, act_df, on='State')\n",
    "\n",
    "display(merged_df.head())"
   ]
  },
  {
   "cell_type": "markdown",
   "metadata": {},
   "source": [
    "##### 10. Change the names of the columns so you can distinguish between the SAT columns and the ACT columns."
   ]
  },
  {
   "cell_type": "code",
   "execution_count": 159,
   "metadata": {},
   "outputs": [
    {
     "data": {
      "text/plain": [
       "Index(['unnamed_sat', 'state', 'participation_sat', 'ebrw_sat', 'math_sat',\n",
       "       'total_sat', 'unnamed_act', 'participation_act', 'english_act',\n",
       "       'math_act', 'reading_act', 'science_act', 'composite_act'],\n",
       "      dtype='object')"
      ]
     },
     "metadata": {},
     "output_type": "display_data"
    },
    {
     "data": {
      "text/plain": [
       "unnamed_sat           object\n",
       "state                 object\n",
       "participation_sat    float64\n",
       "ebrw_sat               int64\n",
       "math_sat               int64\n",
       "total_sat              int64\n",
       "unnamed_act           object\n",
       "participation_act    float64\n",
       "english_act          float64\n",
       "math_act             float64\n",
       "reading_act          float64\n",
       "science_act          float64\n",
       "composite_act        float64\n",
       "dtype: object"
      ]
     },
     "metadata": {},
     "output_type": "display_data"
    }
   ],
   "source": [
    "merged_df.columns = ['unnamed_sat',\n",
    "                     'state',\n",
    "                     'participation_sat',\n",
    "                     'ebrw_sat',\n",
    "                     'math_sat', \n",
    "                     'total_sat', \n",
    "                     'unnamed_act',\n",
    "                     'participation_act', \n",
    "                     'english_act', \n",
    "                     'math_act',\n",
    "                     'reading_act',\n",
    "                     'science_act',\n",
    "                     'composite_act']\n",
    "\n",
    "display(merged_df.columns)\n",
    "display(merged_df.dtypes)\n",
    "#below works for replacing column values, not columns themselves\n",
    "    #merged_df.replace('Test', 'Alabama')"
   ]
  },
  {
   "cell_type": "markdown",
   "metadata": {},
   "source": [
    "##### 11. Print the minimum and maximum of each numeric column in the data frame."
   ]
  },
  {
   "cell_type": "code",
   "execution_count": 160,
   "metadata": {},
   "outputs": [
    {
     "name": "stdout",
     "output_type": "stream",
     "text": [
      "numeric_columns_max: \n",
      " participation_sat       1.0\n",
      "ebrw_sat              644.0\n",
      "math_sat              651.0\n",
      "total_sat            1295.0\n",
      "participation_act       1.0\n",
      "english_act            25.5\n",
      "math_act               25.3\n",
      "reading_act            26.0\n",
      "science_act            24.9\n",
      "composite_act          25.5\n",
      "dtype: float64 \n",
      "\n",
      " numeric_columns_min: \n",
      " participation_sat      0.02\n",
      "ebrw_sat             482.00\n",
      "math_sat              52.00\n",
      "total_sat            950.00\n",
      "participation_act      0.08\n",
      "english_act           16.30\n",
      "math_act              18.00\n",
      "reading_act           18.10\n",
      "science_act            2.30\n",
      "composite_act         17.80\n",
      "dtype: float64\n"
     ]
    }
   ],
   "source": [
    "merged_df.head()\n",
    "\n",
    "#QUESTION: masking?\n",
    "num_df = merged_df.select_dtypes(include = ('float64', 'int64'))\n",
    "print('numeric_columns_max: \\n', num_df.max(), '\\n\\n', 'numeric_columns_min: \\n', num_df.min())"
   ]
  },
  {
   "cell_type": "markdown",
   "metadata": {},
   "source": [
    "##### 12. Write a function using only list comprehensions, no loops, to compute standard deviation. Using this function, calculate the standard deviation of each numeric column in both data sets. Add these to a list called `sd`.\n",
    "\n",
    "$$\\sigma = \\sqrt{\\frac{1}{n}\\sum_{i=1}^n(x_i - \\mu)^2}$$"
   ]
  },
  {
   "cell_type": "code",
   "execution_count": 161,
   "metadata": {},
   "outputs": [
    {
     "data": {
      "text/plain": [
       "[0.35276632270013036,\n",
       " 45.66690138768932,\n",
       " 84.90911865855486,\n",
       " 92.49481172519046,\n",
       " 0.3214084201588683,\n",
       " 2.3536771398030303,\n",
       " 1.9819894936505533,\n",
       " 2.0672706264873146,\n",
       " 3.1824629751554525,\n",
       " 2.020694891154341]"
      ]
     },
     "metadata": {},
     "output_type": "display_data"
    }
   ],
   "source": [
    "import numpy as np\n",
    "#num_df.head()\n",
    "\n",
    "sd = []\n",
    "[sd.append(num_df[i].std()) for i in num_df.columns]\n",
    "display(sd)"
   ]
  },
  {
   "cell_type": "code",
   "execution_count": 162,
   "metadata": {},
   "outputs": [],
   "source": [
    "#DISREGARD: scratch\n",
    "\n",
    "#import numpy as np\n",
    "#np.mean(merged_numeric_df['participation_sat'].values)\n",
    "#merged_numeric_df.iloc[:3,0:1]\n",
    "#display(one_dict.keys())\n",
    "\n",
    "#manual looping\n",
    "#sd = []\n",
    "#for test in merged_numeric_df:\n",
    "    #score_mean = np.mean(merged_numeric_df[test])\n",
    "    #score = (merged_numeric_df[test])\n",
    "    #subtracting 1 below because otherwise n counts header as a row\n",
    "    #n = len(merged_numeric_df[test]) - 1\n",
    "    #std = np.sqrt((sum((score - score_mean)**2) / n))\n",
    "    #originally TypeError: 'builtin_function_or_method' object is not subscriptable b/c I was using [] instead of ()\n",
    "        #was not calling the function the right way\n",
    "    #sd.append(std)\n",
    "    #print(test, score_mean, std)\n",
    "    #QUESTION: why SyntaxError: 'return' outside function here?\n",
    "    \n",
    "#sd\n",
    "    #QUESTION: how to get rid of National row in act_df?\n"
   ]
  },
  {
   "cell_type": "markdown",
   "metadata": {},
   "source": [
    "## Step 2: Manipulate the dataframe"
   ]
  },
  {
   "cell_type": "markdown",
   "metadata": {},
   "source": [
    "##### 13. Turn the list `sd` into a new observation in your dataset."
   ]
  },
  {
   "cell_type": "code",
   "execution_count": 168,
   "metadata": {},
   "outputs": [
    {
     "data": {
      "text/html": [
       "<div>\n",
       "<style scoped>\n",
       "    .dataframe tbody tr th:only-of-type {\n",
       "        vertical-align: middle;\n",
       "    }\n",
       "\n",
       "    .dataframe tbody tr th {\n",
       "        vertical-align: top;\n",
       "    }\n",
       "\n",
       "    .dataframe thead th {\n",
       "        text-align: right;\n",
       "    }\n",
       "</style>\n",
       "<table border=\"1\" class=\"dataframe\">\n",
       "  <thead>\n",
       "    <tr style=\"text-align: right;\">\n",
       "      <th></th>\n",
       "      <th>participation_sat</th>\n",
       "      <th>ebrw_sat</th>\n",
       "      <th>math_sat</th>\n",
       "      <th>total_sat</th>\n",
       "      <th>participation_act</th>\n",
       "      <th>english_act</th>\n",
       "      <th>math_act</th>\n",
       "      <th>reading_act</th>\n",
       "      <th>science_act</th>\n",
       "      <th>composite_act</th>\n",
       "    </tr>\n",
       "  </thead>\n",
       "  <tbody>\n",
       "    <tr>\n",
       "      <th>49</th>\n",
       "      <td>0.030000</td>\n",
       "      <td>642.000000</td>\n",
       "      <td>649.000000</td>\n",
       "      <td>1291.000000</td>\n",
       "      <td>1.000000</td>\n",
       "      <td>19.700000</td>\n",
       "      <td>20.400000</td>\n",
       "      <td>20.600000</td>\n",
       "      <td>20.900000</td>\n",
       "      <td>20.500000</td>\n",
       "    </tr>\n",
       "    <tr>\n",
       "      <th>50</th>\n",
       "      <td>0.030000</td>\n",
       "      <td>626.000000</td>\n",
       "      <td>604.000000</td>\n",
       "      <td>1230.000000</td>\n",
       "      <td>1.000000</td>\n",
       "      <td>19.400000</td>\n",
       "      <td>19.800000</td>\n",
       "      <td>20.800000</td>\n",
       "      <td>20.600000</td>\n",
       "      <td>20.200000</td>\n",
       "    </tr>\n",
       "    <tr>\n",
       "      <th>51</th>\n",
       "      <td>0.352766</td>\n",
       "      <td>45.666901</td>\n",
       "      <td>84.909119</td>\n",
       "      <td>92.494812</td>\n",
       "      <td>0.321408</td>\n",
       "      <td>2.353677</td>\n",
       "      <td>1.981989</td>\n",
       "      <td>2.067271</td>\n",
       "      <td>3.182463</td>\n",
       "      <td>2.020695</td>\n",
       "    </tr>\n",
       "  </tbody>\n",
       "</table>\n",
       "</div>"
      ],
      "text/plain": [
       "    participation_sat    ebrw_sat    math_sat    total_sat  participation_act  \\\n",
       "49           0.030000  642.000000  649.000000  1291.000000           1.000000   \n",
       "50           0.030000  626.000000  604.000000  1230.000000           1.000000   \n",
       "51           0.352766   45.666901   84.909119    92.494812           0.321408   \n",
       "\n",
       "    english_act   math_act  reading_act  science_act  composite_act  \n",
       "49    19.700000  20.400000    20.600000    20.900000      20.500000  \n",
       "50    19.400000  19.800000    20.800000    20.600000      20.200000  \n",
       "51     2.353677   1.981989     2.067271     3.182463       2.020695  "
      ]
     },
     "execution_count": 168,
     "metadata": {},
     "output_type": "execute_result"
    }
   ],
   "source": [
    "#num_df.columns\n",
    "num_df.loc[51, 'participation_sat':'composite_act'] = sd\n",
    "num_df.tail(3)"
   ]
  },
  {
   "cell_type": "markdown",
   "metadata": {},
   "source": [
    "##### 14. Sort the dataframe by the values in a numeric column (e.g. observations descending by SAT participation rate)"
   ]
  },
  {
   "cell_type": "code",
   "execution_count": 174,
   "metadata": {},
   "outputs": [
    {
     "data": {
      "text/html": [
       "<div>\n",
       "<style scoped>\n",
       "    .dataframe tbody tr th:only-of-type {\n",
       "        vertical-align: middle;\n",
       "    }\n",
       "\n",
       "    .dataframe tbody tr th {\n",
       "        vertical-align: top;\n",
       "    }\n",
       "\n",
       "    .dataframe thead th {\n",
       "        text-align: right;\n",
       "    }\n",
       "</style>\n",
       "<table border=\"1\" class=\"dataframe\">\n",
       "  <thead>\n",
       "    <tr style=\"text-align: right;\">\n",
       "      <th></th>\n",
       "      <th>participation_sat</th>\n",
       "      <th>ebrw_sat</th>\n",
       "      <th>math_sat</th>\n",
       "      <th>total_sat</th>\n",
       "      <th>participation_act</th>\n",
       "      <th>english_act</th>\n",
       "      <th>math_act</th>\n",
       "      <th>reading_act</th>\n",
       "      <th>science_act</th>\n",
       "      <th>composite_act</th>\n",
       "    </tr>\n",
       "  </thead>\n",
       "  <tbody>\n",
       "    <tr>\n",
       "      <th>22</th>\n",
       "      <td>1.00</td>\n",
       "      <td>509.0</td>\n",
       "      <td>495.0</td>\n",
       "      <td>1005.0</td>\n",
       "      <td>0.29</td>\n",
       "      <td>24.1</td>\n",
       "      <td>23.7</td>\n",
       "      <td>24.5</td>\n",
       "      <td>23.8</td>\n",
       "      <td>24.1</td>\n",
       "    </tr>\n",
       "    <tr>\n",
       "      <th>6</th>\n",
       "      <td>1.00</td>\n",
       "      <td>530.0</td>\n",
       "      <td>512.0</td>\n",
       "      <td>1041.0</td>\n",
       "      <td>0.31</td>\n",
       "      <td>25.5</td>\n",
       "      <td>24.6</td>\n",
       "      <td>25.6</td>\n",
       "      <td>24.6</td>\n",
       "      <td>25.2</td>\n",
       "    </tr>\n",
       "    <tr>\n",
       "      <th>7</th>\n",
       "      <td>1.00</td>\n",
       "      <td>503.0</td>\n",
       "      <td>492.0</td>\n",
       "      <td>996.0</td>\n",
       "      <td>0.18</td>\n",
       "      <td>24.1</td>\n",
       "      <td>23.4</td>\n",
       "      <td>24.8</td>\n",
       "      <td>23.6</td>\n",
       "      <td>24.1</td>\n",
       "    </tr>\n",
       "    <tr>\n",
       "      <th>8</th>\n",
       "      <td>1.00</td>\n",
       "      <td>482.0</td>\n",
       "      <td>468.0</td>\n",
       "      <td>950.0</td>\n",
       "      <td>0.32</td>\n",
       "      <td>24.4</td>\n",
       "      <td>23.5</td>\n",
       "      <td>24.9</td>\n",
       "      <td>23.5</td>\n",
       "      <td>24.2</td>\n",
       "    </tr>\n",
       "    <tr>\n",
       "      <th>29</th>\n",
       "      <td>0.96</td>\n",
       "      <td>532.0</td>\n",
       "      <td>520.0</td>\n",
       "      <td>1052.0</td>\n",
       "      <td>0.18</td>\n",
       "      <td>25.4</td>\n",
       "      <td>25.1</td>\n",
       "      <td>26.0</td>\n",
       "      <td>24.9</td>\n",
       "      <td>25.5</td>\n",
       "    </tr>\n",
       "  </tbody>\n",
       "</table>\n",
       "</div>"
      ],
      "text/plain": [
       "    participation_sat  ebrw_sat  math_sat  total_sat  participation_act  \\\n",
       "22               1.00     509.0     495.0     1005.0               0.29   \n",
       "6                1.00     530.0     512.0     1041.0               0.31   \n",
       "7                1.00     503.0     492.0      996.0               0.18   \n",
       "8                1.00     482.0     468.0      950.0               0.32   \n",
       "29               0.96     532.0     520.0     1052.0               0.18   \n",
       "\n",
       "    english_act  math_act  reading_act  science_act  composite_act  \n",
       "22         24.1      23.7         24.5         23.8           24.1  \n",
       "6          25.5      24.6         25.6         24.6           25.2  \n",
       "7          24.1      23.4         24.8         23.6           24.1  \n",
       "8          24.4      23.5         24.9         23.5           24.2  \n",
       "29         25.4      25.1         26.0         24.9           25.5  "
      ]
     },
     "execution_count": 174,
     "metadata": {},
     "output_type": "execute_result"
    }
   ],
   "source": [
    "num_df.sort_values(['participation_sat'], ascending = False).head()"
   ]
  },
  {
   "cell_type": "markdown",
   "metadata": {},
   "source": [
    "##### 15. Use a boolean filter to display only observations with a score above a certain threshold (e.g. only states with a participation rate above 50%)"
   ]
  },
  {
   "cell_type": "code",
   "execution_count": 176,
   "metadata": {},
   "outputs": [
    {
     "data": {
      "text/html": [
       "<div>\n",
       "<style scoped>\n",
       "    .dataframe tbody tr th:only-of-type {\n",
       "        vertical-align: middle;\n",
       "    }\n",
       "\n",
       "    .dataframe tbody tr th {\n",
       "        vertical-align: top;\n",
       "    }\n",
       "\n",
       "    .dataframe thead th {\n",
       "        text-align: right;\n",
       "    }\n",
       "</style>\n",
       "<table border=\"1\" class=\"dataframe\">\n",
       "  <thead>\n",
       "    <tr style=\"text-align: right;\">\n",
       "      <th></th>\n",
       "      <th>participation_sat</th>\n",
       "      <th>ebrw_sat</th>\n",
       "      <th>math_sat</th>\n",
       "      <th>total_sat</th>\n",
       "      <th>participation_act</th>\n",
       "      <th>english_act</th>\n",
       "      <th>math_act</th>\n",
       "      <th>reading_act</th>\n",
       "      <th>science_act</th>\n",
       "      <th>composite_act</th>\n",
       "    </tr>\n",
       "  </thead>\n",
       "  <tbody>\n",
       "    <tr>\n",
       "      <th>4</th>\n",
       "      <td>0.53</td>\n",
       "      <td>531.0</td>\n",
       "      <td>524.0</td>\n",
       "      <td>1055.0</td>\n",
       "      <td>0.31</td>\n",
       "      <td>22.5</td>\n",
       "      <td>22.7</td>\n",
       "      <td>23.1</td>\n",
       "      <td>22.2</td>\n",
       "      <td>22.8</td>\n",
       "    </tr>\n",
       "    <tr>\n",
       "      <th>6</th>\n",
       "      <td>1.00</td>\n",
       "      <td>530.0</td>\n",
       "      <td>512.0</td>\n",
       "      <td>1041.0</td>\n",
       "      <td>0.31</td>\n",
       "      <td>25.5</td>\n",
       "      <td>24.6</td>\n",
       "      <td>25.6</td>\n",
       "      <td>24.6</td>\n",
       "      <td>25.2</td>\n",
       "    </tr>\n",
       "    <tr>\n",
       "      <th>7</th>\n",
       "      <td>1.00</td>\n",
       "      <td>503.0</td>\n",
       "      <td>492.0</td>\n",
       "      <td>996.0</td>\n",
       "      <td>0.18</td>\n",
       "      <td>24.1</td>\n",
       "      <td>23.4</td>\n",
       "      <td>24.8</td>\n",
       "      <td>23.6</td>\n",
       "      <td>24.1</td>\n",
       "    </tr>\n",
       "    <tr>\n",
       "      <th>8</th>\n",
       "      <td>1.00</td>\n",
       "      <td>482.0</td>\n",
       "      <td>468.0</td>\n",
       "      <td>950.0</td>\n",
       "      <td>0.32</td>\n",
       "      <td>24.4</td>\n",
       "      <td>23.5</td>\n",
       "      <td>24.9</td>\n",
       "      <td>23.5</td>\n",
       "      <td>24.2</td>\n",
       "    </tr>\n",
       "    <tr>\n",
       "      <th>9</th>\n",
       "      <td>0.83</td>\n",
       "      <td>520.0</td>\n",
       "      <td>497.0</td>\n",
       "      <td>1017.0</td>\n",
       "      <td>0.73</td>\n",
       "      <td>19.0</td>\n",
       "      <td>19.4</td>\n",
       "      <td>21.0</td>\n",
       "      <td>19.4</td>\n",
       "      <td>19.8</td>\n",
       "    </tr>\n",
       "  </tbody>\n",
       "</table>\n",
       "</div>"
      ],
      "text/plain": [
       "   participation_sat  ebrw_sat  math_sat  total_sat  participation_act  \\\n",
       "4               0.53     531.0     524.0     1055.0               0.31   \n",
       "6               1.00     530.0     512.0     1041.0               0.31   \n",
       "7               1.00     503.0     492.0      996.0               0.18   \n",
       "8               1.00     482.0     468.0      950.0               0.32   \n",
       "9               0.83     520.0     497.0     1017.0               0.73   \n",
       "\n",
       "   english_act  math_act  reading_act  science_act  composite_act  \n",
       "4         22.5      22.7         23.1         22.2           22.8  \n",
       "6         25.5      24.6         25.6         24.6           25.2  \n",
       "7         24.1      23.4         24.8         23.6           24.1  \n",
       "8         24.4      23.5         24.9         23.5           24.2  \n",
       "9         19.0      19.4         21.0         19.4           19.8  "
      ]
     },
     "execution_count": 176,
     "metadata": {},
     "output_type": "execute_result"
    }
   ],
   "source": [
    "mask = num_df['participation_sat'] > 0.5\n",
    "num_df[mask].head()"
   ]
  },
  {
   "cell_type": "markdown",
   "metadata": {},
   "source": [
    "## Step 3: Visualize the data"
   ]
  },
  {
   "cell_type": "markdown",
   "metadata": {
    "collapsed": true
   },
   "source": [
    "##### 16. Using MatPlotLib and PyPlot, plot the distribution of the Rate columns for both SAT and ACT using histograms. (You should have two histograms. You might find [this link](https://matplotlib.org/users/pyplot_tutorial.html#working-with-multiple-figures-and-axes) helpful in organizing one plot above the other.) "
   ]
  },
  {
   "cell_type": "code",
   "execution_count": 182,
   "metadata": {},
   "outputs": [],
   "source": [
    "#del merged_numeric_df"
   ]
  },
  {
   "cell_type": "code",
   "execution_count": 184,
   "metadata": {
    "scrolled": true
   },
   "outputs": [
    {
     "data": {
      "image/png": "[encoded data removed]",
      "text/plain": [
       "<Figure size 576x288 with 2 Axes>"
      ]
     },
     "metadata": {},
     "output_type": "display_data"
    }
   ],
   "source": [
    "import matplotlib.pyplot as plt\n",
    "figure, ax = plt.subplots(nrows = 2, ncols = 1, figsize = (8,4))\n",
    "\n",
    "num_df['participation_sat'].plot(kind = 'hist', ax = ax[0], title = 'participation: sat');\n",
    "num_df['participation_act'].plot(kind = 'hist', ax = ax[1], title = 'participation: act');\n",
    "\n",
    "plt.tight_layout()\n",
    "\n",
    "#QUESTION: below doesn't seem to take in ax / doesn't play well with subplots\n",
    "#plt.hist(merged_numeric_df['participation_sat'], ax[0]);\n",
    "#plt.hist(merged_numeric_df['participation_act'], title = 'participation: act');"
   ]
  },
  {
   "cell_type": "markdown",
   "metadata": {},
   "source": [
    "##### 17. Plot the Math(s) distributions from both data sets."
   ]
  },
  {
   "cell_type": "code",
   "execution_count": 185,
   "metadata": {},
   "outputs": [
    {
     "data": {
      "image/png": "[encoded data removed]",
      "text/plain": [
       "<Figure size 576x288 with 2 Axes>"
      ]
     },
     "metadata": {},
     "output_type": "display_data"
    }
   ],
   "source": [
    "figure, ax = plt.subplots(nrows = 2, ncols = 1, figsize = (8,4))\n",
    "\n",
    "num_df['math_sat'].plot(kind = 'hist', ax = ax[0], title = 'math: sat');\n",
    "num_df['math_act'].plot(kind = 'hist', ax = ax[1], title = 'math: act');\n",
    "\n",
    "plt.tight_layout()"
   ]
  },
  {
   "cell_type": "markdown",
   "metadata": {},
   "source": [
    "##### 18. Plot the Verbal distributions from both data sets."
   ]
  },
  {
   "cell_type": "code",
   "execution_count": 196,
   "metadata": {},
   "outputs": [
    {
     "data": {
      "image/png": "[encoded data removed]",
      "text/plain": [
       "<Figure size 576x288 with 2 Axes>"
      ]
     },
     "metadata": {},
     "output_type": "display_data"
    }
   ],
   "source": [
    "figure, ax = plt.subplots(nrows = 1, ncols = 2, figsize = (8,4))\n",
    "\n",
    "num_df['ebrw_sat'].plot(kind = 'hist', ax = ax[0], title = 'ebrw: sat');\n",
    "\n",
    "#add reading and english act scores into new column: verbal_act\n",
    "num_df['verbal_act'] = num_df['reading_act'] + num_df['english_act']\n",
    "num_df['verbal_act'].plot(kind = 'hist', ax = ax[1], title = 'verbal: act');\n",
    "\n",
    "plt.tight_layout()"
   ]
  },
  {
   "cell_type": "markdown",
   "metadata": {},
   "source": [
    "##### 19. When we make assumptions about how data are distributed, what is the most common assumption?"
   ]
  },
  {
   "cell_type": "markdown",
   "metadata": {},
   "source": [
    "Underlying assumption: our population data is normally distributed."
   ]
  },
  {
   "cell_type": "markdown",
   "metadata": {},
   "source": [
    "##### 20. Does this assumption hold true for any of our columns? Which?"
   ]
  },
  {
   "cell_type": "code",
   "execution_count": 202,
   "metadata": {},
   "outputs": [
    {
     "data": {
      "image/png": "[encoded data removed]",
      "text/plain": [
       "<Figure size 1800x576 with 12 Axes>"
      ]
     },
     "metadata": {},
     "output_type": "display_data"
    }
   ],
   "source": [
    "#Our data does not appear to be normally distributed looking at the plots.\n",
    "\n",
    "figure, ax = plt.subplots(nrows = 2, ncols = 6, figsize = (25,8))\n",
    "\n",
    "num_df['participation_sat'].plot(kind = 'hist', ax = ax[0,0], title = 'participation_sat');\n",
    "num_df['ebrw_sat'].plot(kind = 'hist', ax = ax[0,1], title = 'ebrw_sat');\n",
    "num_df['math_sat'].plot(kind = 'hist', ax = ax[0,2], title = 'math_sat');\n",
    "num_df['total_sat'].plot(kind = 'hist', ax = ax[0,3], title = 'total_sat');\n",
    "num_df['participation_act'].plot(kind = 'hist', ax = ax[1,0], title = 'participation_act');\n",
    "num_df['english_act'].plot(kind = 'hist', ax = ax[1,1], title = 'participation_sat');\n",
    "num_df['math_act'].plot(kind = 'hist', ax = ax[1,2], title = 'math_act');\n",
    "num_df['reading_act'].plot(kind = 'hist', ax = ax[1,3], title = 'reading_act');\n",
    "num_df['science_act'].plot(kind = 'hist', ax = ax[1,4], title = 'science_act');\n",
    "num_df['composite_act'].plot(kind = 'hist', ax = ax[1,5], title = 'composite_act');\n",
    "\n",
    "plt.tight_layout()"
   ]
  },
  {
   "cell_type": "markdown",
   "metadata": {},
   "source": [
    "##### 21. Plot some scatterplots examining relationships between all variables."
   ]
  },
  {
   "cell_type": "code",
   "execution_count": 210,
   "metadata": {
    "scrolled": true
   },
   "outputs": [
    {
     "data": {
      "image/png": "[encoded data removed]",
      "text/plain": [
       "<Figure size 720x360 with 6 Axes>"
      ]
     },
     "metadata": {},
     "output_type": "display_data"
    }
   ],
   "source": [
    "#QUESTION: is there a way to do this for all variables other than explicitly plotting each relationship?\n",
    "\n",
    "figure, ax = plt.subplots(nrows = 2, ncols = 3, figsize = (10, 5))\n",
    "\n",
    "num_df.plot.scatter('ebrw_sat','math_sat', ax = ax[0,0]);\n",
    "num_df.plot.scatter('ebrw_sat','total_sat', ax = ax[0,1]);\n",
    "num_df.plot.scatter('participation_sat','total_sat', ax = ax[0,2]);\n",
    "\n",
    "num_df.plot.scatter('verbal_act','math_act', ax = ax[1,0]);\n",
    "num_df.plot.scatter('math_act', 'science_act', ax = ax[1,1]);\n",
    "num_df.plot.scatter('participation_act','composite_act', ax = ax[1,2]);"
   ]
  },
  {
   "cell_type": "markdown",
   "metadata": {},
   "source": [
    "##### 22. Are there any interesting relationships to note?"
   ]
  },
  {
   "cell_type": "markdown",
   "metadata": {},
   "source": [
    "The participation rates tend to be lower for the highest total SAT / composite ACT scores. This may point to (self) selection bias: those who sign up to take the tests are high performing students."
   ]
  },
  {
   "cell_type": "markdown",
   "metadata": {},
   "source": [
    "##### 23. Create box plots for each variable. "
   ]
  },
  {
   "cell_type": "code",
   "execution_count": 223,
   "metadata": {},
   "outputs": [
    {
     "data": {
      "image/png": "[encoded data removed]",
      "text/plain": [
       "<Figure size 1152x864 with 12 Axes>"
      ]
     },
     "metadata": {},
     "output_type": "display_data"
    }
   ],
   "source": [
    "figure, ax = plt.subplots(nrows = 2, ncols = 6, figsize = (16,12))\n",
    "\n",
    "num_df.boxplot('participation_sat', ax = ax[0,0]);\n",
    "num_df.boxplot('ebrw_sat', ax = ax[0,1]);\n",
    "num_df.boxplot('math_sat', ax = ax[0,2]);\n",
    "num_df.boxplot('total_sat', ax = ax[0,3]);\n",
    "num_df.boxplot('participation_act', ax = ax[1,0]);\n",
    "num_df.boxplot('english_act', ax = ax[1,1]);\n",
    "num_df.boxplot('reading_act', ax = ax[1,2]);\n",
    "num_df.boxplot('math_act', ax = ax[1,3]);\n",
    "num_df.boxplot('science_act', ax = ax[1,4]);\n",
    "num_df.boxplot('composite_act', ax = ax[1,5]);\n",
    "num_df.boxplot('verbal_act', ax = ax[0,5]);"
   ]
  },
  {
   "cell_type": "markdown",
   "metadata": {},
   "source": [
    "##### BONUS: Using Tableau, create a heat map for each variable using a map of the US. "
   ]
  },
  {
   "cell_type": "markdown",
   "metadata": {},
   "source": [
    "## Step 4: Descriptive and Inferential Statistics"
   ]
  },
  {
   "cell_type": "markdown",
   "metadata": {},
   "source": [
    "##### 24. Summarize each distribution. As data scientists, be sure to back up these summaries with statistics. (Hint: What are the three things we care about when describing distributions?)"
   ]
  },
  {
   "cell_type": "code",
   "execution_count": 251,
   "metadata": {},
   "outputs": [
    {
     "data": {
      "text/html": [
       "<div>\n",
       "<style scoped>\n",
       "    .dataframe tbody tr th:only-of-type {\n",
       "        vertical-align: middle;\n",
       "    }\n",
       "\n",
       "    .dataframe tbody tr th {\n",
       "        vertical-align: top;\n",
       "    }\n",
       "\n",
       "    .dataframe thead th {\n",
       "        text-align: right;\n",
       "    }\n",
       "</style>\n",
       "<table border=\"1\" class=\"dataframe\">\n",
       "  <thead>\n",
       "    <tr style=\"text-align: right;\">\n",
       "      <th></th>\n",
       "      <th>participation_sat</th>\n",
       "      <th>ebrw_sat</th>\n",
       "      <th>math_sat</th>\n",
       "      <th>total_sat</th>\n",
       "      <th>participation_act</th>\n",
       "      <th>english_act</th>\n",
       "      <th>math_act</th>\n",
       "      <th>reading_act</th>\n",
       "      <th>science_act</th>\n",
       "      <th>composite_act</th>\n",
       "      <th>verbal_act</th>\n",
       "    </tr>\n",
       "  </thead>\n",
       "  <tbody>\n",
       "    <tr>\n",
       "      <th>51</th>\n",
       "      <td>0.352766</td>\n",
       "      <td>45.666901</td>\n",
       "      <td>84.909119</td>\n",
       "      <td>92.494812</td>\n",
       "      <td>0.321408</td>\n",
       "      <td>2.353677</td>\n",
       "      <td>1.981989</td>\n",
       "      <td>2.067271</td>\n",
       "      <td>3.182463</td>\n",
       "      <td>2.020695</td>\n",
       "      <td>4.420948</td>\n",
       "    </tr>\n",
       "    <tr>\n",
       "      <th>52</th>\n",
       "      <td>0.395976</td>\n",
       "      <td>548.828898</td>\n",
       "      <td>528.998313</td>\n",
       "      <td>1086.088679</td>\n",
       "      <td>0.631637</td>\n",
       "      <td>20.153804</td>\n",
       "      <td>20.372755</td>\n",
       "      <td>21.175093</td>\n",
       "      <td>20.264980</td>\n",
       "      <td>20.701367</td>\n",
       "      <td>41.386252</td>\n",
       "    </tr>\n",
       "    <tr>\n",
       "      <th>53</th>\n",
       "      <td>0.380000</td>\n",
       "      <td>558.000000</td>\n",
       "      <td>541.000000</td>\n",
       "      <td>1102.000000</td>\n",
       "      <td>0.670000</td>\n",
       "      <td>20.400000</td>\n",
       "      <td>20.900000</td>\n",
       "      <td>21.600000</td>\n",
       "      <td>20.900000</td>\n",
       "      <td>21.400000</td>\n",
       "      <td>42.200000</td>\n",
       "    </tr>\n",
       "    <tr>\n",
       "      <th>54</th>\n",
       "      <td>0.980000</td>\n",
       "      <td>648.259007</td>\n",
       "      <td>654.452366</td>\n",
       "      <td>1299.145439</td>\n",
       "      <td>1.193249</td>\n",
       "      <td>28.179129</td>\n",
       "      <td>28.841568</td>\n",
       "      <td>29.548671</td>\n",
       "      <td>28.448850</td>\n",
       "      <td>29.038037</td>\n",
       "      <td>54.521400</td>\n",
       "    </tr>\n",
       "    <tr>\n",
       "      <th>55</th>\n",
       "      <td>0.327979</td>\n",
       "      <td>-4.156115</td>\n",
       "      <td>-3.366925</td>\n",
       "      <td>-4.029090</td>\n",
       "      <td>-0.144886</td>\n",
       "      <td>-2.272855</td>\n",
       "      <td>-2.907889</td>\n",
       "      <td>-2.977514</td>\n",
       "      <td>-3.159374</td>\n",
       "      <td>-2.946952</td>\n",
       "      <td>-2.845528</td>\n",
       "    </tr>\n",
       "  </tbody>\n",
       "</table>\n",
       "</div>"
      ],
      "text/plain": [
       "    participation_sat    ebrw_sat    math_sat    total_sat  participation_act  \\\n",
       "51           0.352766   45.666901   84.909119    92.494812           0.321408   \n",
       "52           0.395976  548.828898  528.998313  1086.088679           0.631637   \n",
       "53           0.380000  558.000000  541.000000  1102.000000           0.670000   \n",
       "54           0.980000  648.259007  654.452366  1299.145439           1.193249   \n",
       "55           0.327979   -4.156115   -3.366925    -4.029090          -0.144886   \n",
       "\n",
       "    english_act   math_act  reading_act  science_act  composite_act  \\\n",
       "51     2.353677   1.981989     2.067271     3.182463       2.020695   \n",
       "52    20.153804  20.372755    21.175093    20.264980      20.701367   \n",
       "53    20.400000  20.900000    21.600000    20.900000      21.400000   \n",
       "54    28.179129  28.841568    29.548671    28.448850      29.038037   \n",
       "55    -2.272855  -2.907889    -2.977514    -3.159374      -2.946952   \n",
       "\n",
       "    verbal_act  \n",
       "51    4.420948  \n",
       "52   41.386252  \n",
       "53   42.200000  \n",
       "54   54.521400  \n",
       "55   -2.845528  "
      ]
     },
     "execution_count": 251,
     "metadata": {},
     "output_type": "execute_result"
    }
   ],
   "source": [
    "import scipy.stats as stats\n",
    "from scipy.stats import skew\n",
    "import seaborn as sns\n",
    "import numpy as np\n",
    "import matplotlib.pyplot as plt\n",
    "\n",
    "#shape, center, spread\n",
    "\n",
    "#row 51 = sd\n",
    "#adding row 52 for mean\n",
    "num_df.loc[52, 'participation_sat': 'verbal_act'] = [num_df[i].mean() for i in num_df.columns]\n",
    "\n",
    "#adding row 53 for median\n",
    "num_df.loc[53, 'participation_sat': 'verbal_act'] = [num_df[i].median() for i in num_df.columns]\n",
    "\n",
    "#adding row 54 for range\n",
    "num_df.loc[54, 'participation_sat': 'verbal_act'] = [num_df[i].max() - num_df[i].min() for i in num_df.columns]\n",
    "\n",
    "#adding row 55 for skew\n",
    "num_df.loc[55, 'participation_sat': 'verbal_act'] = [skew(num_df[i]) for i in num_df.columns]\n",
    "num_df.tail()\n",
    "\n",
    "#QUESTION: to add in how many outliers (test-statistic outside of 3 std deviations away from the norm) in each column?\n",
    "    #stats.norm.pdf"
   ]
  },
  {
   "cell_type": "markdown",
   "metadata": {},
   "source": [
    "Participation rate for the SAT is skewed slightly right (positive, multi-modal), EBRW/Math and Total SAT scores are skewed left (negative).\n",
    "\n",
    "Participation rate for the ACT is skewed slightly left (positive, bimodal in plot), all portions of ACT scores are skewed left (negative)."
   ]
  },
  {
   "cell_type": "markdown",
   "metadata": {},
   "source": [
    "##### 25. Summarize each relationship. Be sure to back up these summaries with statistics."
   ]
  },
  {
   "cell_type": "code",
   "execution_count": null,
   "metadata": {},
   "outputs": [],
   "source": [
    "#Step 1. Set null and alternate hypotheses\n",
    "#Null: There is no difference between SAT and ACT participation rates on average.\n",
    "#Alternate: There is a difference between SAT and ACT participation rates on average."
   ]
  },
  {
   "cell_type": "code",
   "execution_count": null,
   "metadata": {},
   "outputs": [],
   "source": [
    "#Step 2. Set alpha - given\n",
    "a = 0.05"
   ]
  },
  {
   "cell_type": "code",
   "execution_count": null,
   "metadata": {},
   "outputs": [],
   "source": [
    "#Step 3. Calculate point estimate\n",
    "sat_mean = np.mean(merged_df['participation_sat'])\n",
    "act_mean = np.mean(merged_df['participation_act'])\n",
    "print('sat_mean: ', sat_mean, ', act_mean: ', act_mean, ', point_estimate: ', sat_mean - act_mean)"
   ]
  },
  {
   "cell_type": "markdown",
   "metadata": {},
   "source": [
    "##### 26. Execute a hypothesis test comparing the SAT and ACT participation rates. Use $\\alpha = 0.05$. Be sure to interpret your results."
   ]
  },
  {
   "cell_type": "code",
   "execution_count": 43,
   "metadata": {},
   "outputs": [
    {
     "name": "stdout",
     "output_type": "stream",
     "text": [
      "t-statistic:  -3.8085778908170527\n"
     ]
    },
    {
     "data": {
      "text/plain": [
       "-3.8085778908170527"
      ]
     },
     "execution_count": 43,
     "metadata": {},
     "output_type": "execute_result"
    }
   ],
   "source": [
    "#Step 4. Calculate a t-statistic\n",
    "#manual attempt\n",
    "numer = sat_mean - act_mean\n",
    "denom = np.sqrt((np.var(merged_df['participation_sat']) / (len(merged_df['participation_sat'])-1)) + (np.var(merged_df['participation_act']) / (len(merged_df['participation_act'])-1)))\n",
    "t = numer / denom\n",
    "print('t-statistic: ', t)\n",
    "\n",
    "#with function\n",
    "result = stats.ttest_ind(merged_df['participation_sat'], merged_df['participation_act'])"
   ]
  },
  {
   "cell_type": "code",
   "execution_count": 45,
   "metadata": {},
   "outputs": [
    {
     "data": {
      "image/png": "[encoded data removed]",
      "text/plain": [
       "<matplotlib.figure.Figure at 0x1a20201208>"
      ]
     },
     "metadata": {},
     "output_type": "display_data"
    }
   ],
   "source": [
    "#visualization of a normal distribution\n",
    "xpoints = np.linspace(-4,4,500)\n",
    "ypoints = stats.t.pdf(xpoints, (len(merged_df['participation_sat'])+len(merged_df['participation_act'])-2))\n",
    "\n",
    "import matplotlib.pyplot as plt\n",
    "fig = plt.figure(figsize = (8,5))\n",
    "ax = fig.gca()\n",
    "ax.plot(xpoints, ypoints);\n",
    "\n",
    "#showing our t-statistic as a reference line\n",
    "ax.axvline(t, color = 'black', linestyle = '--');"
   ]
  },
  {
   "cell_type": "code",
   "execution_count": 46,
   "metadata": {},
   "outputs": [
    {
     "name": "stdout",
     "output_type": "stream",
     "text": [
      "p-value:  0.00024134203698664727\n"
     ]
    }
   ],
   "source": [
    "#Step 5. Calculate p-value and interpret conclusion\n",
    "#manual\n",
    "lower_tail = stats.t.cdf(-abs(t), len(merged_df['participation_sat'])+len(merged_df['participation_act'])-2)\n",
    "upper_tail = 1 - stats.t.cdf(abs(t), len(merged_df['participation_sat'])+len(merged_df['participation_act'])-2)\n",
    "p = lower_tail + upper_tail\n",
    "print('p-value: ', p)\n",
    "\n",
    "#with function\n",
    "result = stats.ttest_ind(merged_df['participation_sat'], merged_df['participation_act'])"
   ]
  },
  {
   "cell_type": "markdown",
   "metadata": {},
   "source": [
    "Our p-value of 0.0002 is less than our alpha of 0.05: we find it extremely unlikely that the true population difference between all SAT and ACT mean participation rates is 0 is extremely small. We reject our null hypothesis - it is likely that SAT and ACT mean participation rates differ."
   ]
  },
  {
   "cell_type": "markdown",
   "metadata": {},
   "source": [
    "##### 27. Generate and interpret 95% confidence intervals for SAT and ACT participation rates."
   ]
  },
  {
   "cell_type": "code",
   "execution_count": 48,
   "metadata": {},
   "outputs": [
    {
     "name": "stdout",
     "output_type": "stream",
     "text": [
      "sat_95ci:  0.27209472415481906 , 0.52398370721773\n",
      "act_95ci:  0.5377999139080712 , 0.7672981253076149\n",
      "sat_ci:  (0.25937970378862735, 0.5366987275839221) \n",
      " act_ci:  (0.5262151498724764, 0.77888288934321)\n"
     ]
    }
   ],
   "source": [
    "#manual\n",
    "sat_mean = np.mean(merged_df['participation_sat'])\n",
    "sat_sem = (np.std(merged_df['participation_sat']) / np.sqrt(len(merged_df['participation_sat'])))\n",
    "sat_ci_lower = sat_mean - z*sat_sem\n",
    "sat_ci_upper = sat_mean + z*sat_sem\n",
    "print('sat_95ci: ', sat_ci_lower, ',', sat_ci_upper)\n",
    "\n",
    "act_mean = np.mean(merged_df['participation_act'])\n",
    "act_sem = (np.std(merged_df['participation_act']) / np.sqrt(len(merged_df['participation_act'])))\n",
    "#for 95% CI\n",
    "#z=1.96\n",
    "#for 99.5% CI\n",
    "z=2.575\n",
    "\n",
    "act_ci_lower = act_mean - z*act_sem\n",
    "act_ci_upper = act_mean + z*act_sem\n",
    "print('act_95ci: ', act_ci_lower, ',', act_ci_upper)\n",
    "\n",
    "#function\n",
    "import scipy.stats as stats\n",
    "sat_ci = stats.norm.interval(0.995, loc= np.mean(merged_df['participation_sat']), scale= stats.sem(merged_df['participation_sat']))\n",
    "act_ci = stats.norm.interval(0.995, loc= np.mean(merged_df['participation_act']), scale= stats.sem(merged_df['participation_act']))\n",
    "print ('sat_ci: ', sat_ci, '\\n', 'act_ci: ', act_ci)"
   ]
  },
  {
   "cell_type": "markdown",
   "metadata": {},
   "source": [
    "Interpretation: Given our p-value is so small, we would expect to see the 95% confidence intervals of SAT and ACT mean participation rates not to overlap much. The 95% CIs do not overlap at all - the likelihood that the mean participation rates for the two tests are similar is very small.\n",
    "\n",
    "If we calculate a 99.5% confidence interval, we see that there is slight overlap between the two test means: sat_ci_upper_tail is 53.7% and act_ci_lower_tail is 52.6%. The range between 52.6% and 53.7% is 1.1%. Only in extreme outlier cases would the SAT and ACT mean participation rates show little difference."
   ]
  },
  {
   "cell_type": "markdown",
   "metadata": {},
   "source": [
    "##### 28. Given your answer to 26, was your answer to 27 surprising? Why?"
   ]
  },
  {
   "cell_type": "markdown",
   "metadata": {},
   "source": [
    "No, 27 confirms our interpretation in 26 - it is unlikely that the two participation rates are similar because a small p-value gives us confidence to reject the null, and we saw with the two CIs more evidence that the chance of the null hypothesis being true is very small (visually the area under the two 99.5% CIs that overlap is the probability of the null holding true)."
   ]
  },
  {
   "cell_type": "markdown",
   "metadata": {},
   "source": [
    "##### 29. Is it appropriate to generate correlation between SAT and ACT math scores? Why?"
   ]
  },
  {
   "cell_type": "code",
   "execution_count": 56,
   "metadata": {},
   "outputs": [
    {
     "data": {
      "text/html": [
       "<div>\n",
       "<style scoped>\n",
       "    .dataframe tbody tr th:only-of-type {\n",
       "        vertical-align: middle;\n",
       "    }\n",
       "\n",
       "    .dataframe tbody tr th {\n",
       "        vertical-align: top;\n",
       "    }\n",
       "\n",
       "    .dataframe thead th {\n",
       "        text-align: right;\n",
       "    }\n",
       "</style>\n",
       "<table border=\"1\" class=\"dataframe\">\n",
       "  <thead>\n",
       "    <tr style=\"text-align: right;\">\n",
       "      <th></th>\n",
       "      <th>math_sat</th>\n",
       "      <th>math_act</th>\n",
       "    </tr>\n",
       "  </thead>\n",
       "  <tbody>\n",
       "    <tr>\n",
       "      <th>math_sat</th>\n",
       "      <td>1.000000</td>\n",
       "      <td>-0.340906</td>\n",
       "    </tr>\n",
       "    <tr>\n",
       "      <th>math_act</th>\n",
       "      <td>-0.340906</td>\n",
       "      <td>1.000000</td>\n",
       "    </tr>\n",
       "  </tbody>\n",
       "</table>\n",
       "</div>"
      ],
      "text/plain": [
       "          math_sat  math_act\n",
       "math_sat  1.000000 -0.340906\n",
       "math_act -0.340906  1.000000"
      ]
     },
     "execution_count": 56,
     "metadata": {},
     "output_type": "execute_result"
    }
   ],
   "source": [
    "math_corr = np.corrcoef(merged_df['math_sat'], merged_df['math_act'])\n",
    "merged_df.loc[:, ['math_sat', 'math_act']].corr()"
   ]
  },
  {
   "cell_type": "code",
   "execution_count": 58,
   "metadata": {},
   "outputs": [
    {
     "data": {
      "image/png": "[encoded data removed]",
      "text/plain": [
       "<matplotlib.figure.Figure at 0x1a22cd31d0>"
      ]
     },
     "metadata": {},
     "output_type": "display_data"
    }
   ],
   "source": [
    "import seaborn as sns\n",
    "fig = plt.figure(figsize = (8,8))\n",
    "ax=fig.gca()\n",
    "\n",
    "#for math scores\n",
    "sns.heatmap(np.abs(merged_df.loc[:, ['math_sat', 'math_act']].corr()), annot = True, ax=ax);\n",
    "\n",
    "#for all variables\n",
    "#sns.heatmap(np.abs(merged_df.corr()), annot = True, ax=ax);\n",
    "\n",
    "ax.set_ylabel('Variables', fontsize = 16);"
   ]
  },
  {
   "cell_type": "markdown",
   "metadata": {},
   "source": [
    "Correlation here may make sense if there is significant overlap between students who take both the SAT and the ACT. For this group, if we see high math scores on the SAT, we would expect high math scores on the ACT. However, we'd need to subset the data to only represent this conditional group - otherwise the correlation is too noisy. If we are able to subset, the correlation would tell us whether our expectation is true: the closer r is to +1, the stronger the relationship between math scores on both tests."
   ]
  },
  {
   "cell_type": "markdown",
   "metadata": {},
   "source": [
    "##### 30. Suppose we only seek to understand the relationship between SAT and ACT data in 2017. Does it make sense to conduct statistical inference given the data we have? Why?"
   ]
  },
  {
   "cell_type": "markdown",
   "metadata": {},
   "source": [
    "No, because in that case our population is 2017, so we can calculate the true population statistics and do not need to infer. Our inference extends to the true population mean for understanding the relationship between SAT and ACT data beyond the year of 2017."
   ]
  }
 ],
 "metadata": {
  "anaconda-cloud": {},
  "kernelspec": {
   "display_name": "Python [default]",
   "language": "python",
   "name": "python3"
  },
  "language_info": {
   "codemirror_mode": {
    "name": "ipython",
    "version": 3
   },
   "file_extension": ".py",
   "mimetype": "text/x-python",
   "name": "python",
   "nbconvert_exporter": "python",
   "pygments_lexer": "ipython3",
   "version": "3.6.5"
  }
 },
 "nbformat": 4,
 "nbformat_minor": 1
}
