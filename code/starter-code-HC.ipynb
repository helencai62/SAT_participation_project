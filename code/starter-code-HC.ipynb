{
 "cells": [
  {
   "cell_type": "markdown",
   "metadata": {},
   "source": [
    "# Project 1"
   ]
  },
  {
   "cell_type": "markdown",
   "metadata": {},
   "source": [
    "## Step 1: Load the data and perform basic operations."
   ]
  },
  {
   "cell_type": "markdown",
   "metadata": {},
   "source": [
    "##### 1. Load the data in using pandas."
   ]
  },
  {
   "cell_type": "code",
   "execution_count": 284,
   "metadata": {},
   "outputs": [],
   "source": [
    "#sat_csv = \"/Users/chelen/Documents/ga/wk2/project-1/data/sat.csv\"\n",
    "#act_csv = \"/Users/chelen/Documents/ga/wk2/project-1/data/act.csv\"\n",
    "\n",
    "import pandas as pd\n",
    "\n",
    "sat_df = pd.read_csv(sat_csv)\n",
    "act_df = pd.read_csv(act_csv)\n",
    "\n",
    "#if we wanted to extract a variable in csv:\n",
    "    #salary = ath['Total Pay'].values.tolist()"
   ]
  },
  {
   "cell_type": "markdown",
   "metadata": {},
   "source": [
    "##### 2. Print the first ten rows of each dataframe."
   ]
  },
  {
   "cell_type": "code",
   "execution_count": 285,
   "metadata": {},
   "outputs": [
    {
     "name": "stdout",
     "output_type": "stream",
     "text": [
      "   Unnamed: 0                 State Participation  \\\n",
      "0           0               Alabama            5%   \n",
      "1           1                Alaska           38%   \n",
      "2           2               Arizona           30%   \n",
      "3           3              Arkansas            3%   \n",
      "4           4            California           53%   \n",
      "5           5              Colorado           11%   \n",
      "6           6           Connecticut          100%   \n",
      "7           7              Delaware          100%   \n",
      "8           8  District of Columbia          100%   \n",
      "9           9               Florida           83%   \n",
      "\n",
      "   Evidence-Based Reading and Writing  Math  Total  \n",
      "0                                 593   572   1165  \n",
      "1                                 547   533   1080  \n",
      "2                                 563   553   1116  \n",
      "3                                 614   594   1208  \n",
      "4                                 531   524   1055  \n",
      "5                                 606   595   1201  \n",
      "6                                 530   512   1041  \n",
      "7                                 503   492    996  \n",
      "8                                 482   468    950  \n",
      "9                                 520   497   1017  \n",
      "   Unnamed: 0                 State Participation  English  Math  Reading  \\\n",
      "0           0              National           60%     20.3  20.7     21.4   \n",
      "1           1               Alabama          100%     18.9  18.4     19.7   \n",
      "2           2                Alaska           65%     18.7  19.8     20.4   \n",
      "3           3               Arizona           62%     18.6  19.8     20.1   \n",
      "4           4              Arkansas          100%     18.9  19.0     19.7   \n",
      "5           5            California           31%     22.5  22.7     23.1   \n",
      "6           6              Colorado          100%     20.1  20.3     21.2   \n",
      "7           7           Connecticut           31%     25.5  24.6     25.6   \n",
      "8           8              Delaware           18%     24.1  23.4     24.8   \n",
      "9           9  District of Columbia           32%     24.4  23.5     24.9   \n",
      "\n",
      "   Science  Composite  \n",
      "0     21.0       21.0  \n",
      "1     19.4       19.2  \n",
      "2     19.9       19.8  \n",
      "3     19.8       19.7  \n",
      "4     19.5       19.4  \n",
      "5     22.2       22.8  \n",
      "6     20.9       20.8  \n",
      "7     24.6       25.2  \n",
      "8     23.6       24.1  \n",
      "9     23.5       24.2  \n"
     ]
    }
   ],
   "source": [
    "print(sat_df[:10])\n",
    "print(act_df[:10])"
   ]
  },
  {
   "cell_type": "markdown",
   "metadata": {},
   "source": [
    "##### 3. Describe in words what each variable (column) is."
   ]
  },
  {
   "cell_type": "raw",
   "metadata": {
    "collapsed": true
   },
   "source": [
    "SAT:\n",
    "\n",
    "Col 1. Unnamed = index\n",
    "Col 2. State = state where student took the test\n",
    "Col 3. Participation = number of students in state that took the test\n",
    "Col 4. Evidence-Based Reading and Writing = mean of student scores on portion 1 of test\n",
    "Col 5. Math = mean of student scores on portion 2 of test\n",
    "Col 6. Total = mean of aggregate student scores on both portions of test\n",
    "\n",
    "ACT:\n",
    "\n",
    "Col 1. Unnamed = index\n",
    "Col 2. State = state where student took the test\n",
    "Col 3. Participation = number of students in state that took the test\n",
    "Col 4. English = mean of student scores on english portion of test\n",
    "Col 5. Math = mean of student scores on math portion of test\n",
    "Col 6. Reading = mean of student scores on reading portion of test\n",
    "Col 7. Science = mean of student scores on science portion of test\n",
    "Col 8. Composite = mean of aggregate student scores on all portions of test"
   ]
  },
  {
   "cell_type": "markdown",
   "metadata": {},
   "source": [
    "##### 4. Does the data look complete? Are there any obvious issues with the observations?"
   ]
  },
  {
   "cell_type": "raw",
   "metadata": {
    "collapsed": true
   },
   "source": [
    "Caveats\n",
    "\n",
    "1. Only shows data for the graduating class of 2017\n",
    "2. Students taking tests in different states could be a confounding factor, esp in the NE"
   ]
  },
  {
   "cell_type": "markdown",
   "metadata": {},
   "source": [
    "##### 5. Print the types of each column."
   ]
  },
  {
   "cell_type": "code",
   "execution_count": 286,
   "metadata": {
    "scrolled": true
   },
   "outputs": [
    {
     "name": "stdout",
     "output_type": "stream",
     "text": [
      "Unnamed: 0                             int64\n",
      "State                                 object\n",
      "Participation                         object\n",
      "Evidence-Based Reading and Writing     int64\n",
      "Math                                   int64\n",
      "Total                                  int64\n",
      "dtype: object \n",
      "\n",
      " Unnamed: 0         int64\n",
      "State             object\n",
      "Participation     object\n",
      "English          float64\n",
      "Math             float64\n",
      "Reading          float64\n",
      "Science          float64\n",
      "Composite        float64\n",
      "dtype: object\n"
     ]
    }
   ],
   "source": [
    "print(sat_df.dtypes, '\\n\\n', act_df.dtypes)"
   ]
  },
  {
   "cell_type": "markdown",
   "metadata": {},
   "source": [
    "##### 6. Do any types need to be reassigned? If so, go ahead and do it."
   ]
  },
  {
   "cell_type": "code",
   "execution_count": 287,
   "metadata": {},
   "outputs": [
    {
     "name": "stdout",
     "output_type": "stream",
     "text": [
      "Unnamed: 0                             object\n",
      "State                                  object\n",
      "Participation                         float64\n",
      "Evidence-Based Reading and Writing      int64\n",
      "Math                                    int64\n",
      "Total                                   int64\n",
      "dtype: object\n"
     ]
    }
   ],
   "source": [
    "#print(sat_df.dtypes)\n",
    "    #should Unnamed be an int64? no\n",
    "    #should State be a string? yes\n",
    "    #should Participation be a string? no\n",
    "    #should EBRW be an int64? yes\n",
    "    #should Math be an int64? yes\n",
    "    #should Total be an int64? yes\n",
    "\n",
    "#fix Unnamed dtype\n",
    "sat_df['Unnamed: 0'] = sat_df['Unnamed: 0'].astype('str')\n",
    "\n",
    "#fix Participation dtype\n",
    "#sat_df['Participation'].apply(lambda x: x.replace('%', '')).astype('float')/100\n",
    "sat_df['Participation'] = [float(x.replace('%', ''))/100 for x in sat_df['Participation']]\n",
    "\n",
    "#we need to set sat_df[<variable>].astype(<type>) here back to itself in order to save the new dtype\n",
    "#sat_df['Participation'] = sat_df['Participation'].astype('float64')\n",
    "#inplace defaults to False, although below didn't seem to work\n",
    "    #sat['Unnamed: 0']=sat['Unnamed: 0'].astype('str', inplace = True)\n",
    "    \n",
    "print(sat_df.dtypes)"
   ]
  },
  {
   "cell_type": "code",
   "execution_count": 288,
   "metadata": {},
   "outputs": [
    {
     "name": "stdout",
     "output_type": "stream",
     "text": [
      "Unnamed: 0        object\n",
      "State             object\n",
      "Participation    float64\n",
      "English          float64\n",
      "Math             float64\n",
      "Reading          float64\n",
      "Science          float64\n",
      "Composite        float64\n",
      "dtype: object\n"
     ]
    }
   ],
   "source": [
    "#print(act_df.dtypes)\n",
    "    #should Unnamed be an int64? no\n",
    "    #should State be a str? yes\n",
    "    #should Participation be an object? no\n",
    "    #should English be a float64? yes\n",
    "    #should Math be a float64? yes\n",
    "    #should Reading be a float64? yes\n",
    "    #should Science be a float64? yes\n",
    "    #should Composite be a float64? yes\n",
    "\n",
    "#fix Unnamed dtype\n",
    "act_df['Unnamed: 0'] = act_df['Unnamed: 0'].astype('str')\n",
    "\n",
    "#fix Participation dtype\n",
    "act_df['Participation'] = [float(x.replace('%', ''))/100 for x in act_df['Participation']]\n",
    "act_df['Participation'] = act_df['Participation'].astype('float64')\n",
    "print(act_df.dtypes)"
   ]
  },
  {
   "cell_type": "markdown",
   "metadata": {},
   "source": [
    "##### 7. Create a dictionary for each column mapping the State to its respective value for that column. (For example, you should have three SAT dictionaries.)"
   ]
  },
  {
   "cell_type": "code",
   "execution_count": 289,
   "metadata": {},
   "outputs": [],
   "source": [
    "#sat\n",
    "\n",
    "#can call a variable by sat_df[<variable>] OR by sat_df.variable\n",
    "    #what is dict(zip(...)) doing?\n",
    "    #test = dict(zip('1', '2'))\n",
    "ebrw_dict = dict(zip(sat_df['State'], sat_df['Evidence-Based Reading and Writing']))\n",
    "math_dict = dict(zip(sat_df['State'], sat_df['Math']))\n",
    "total_dict = dict(zip(sat_df['State'], sat_df['Total']))\n",
    "\n",
    "#ebrw_dict = sat_df.set_index('State')['Evidence-Based Reading and Writing'].to_dict()\n",
    "#math_dict = sat_df.set_index('State')['Math'].to_dict()\n",
    "#total_dict = sat_df.set_index('State')['Total'].to_dict()\n",
    "\n",
    "#QUESTION: is there a .head()-esque function for dictionaries to return a preview?\n",
    "#display(ebrw_dict)\n",
    "#display(math_dict)\n",
    "#display(total_dict)"
   ]
  },
  {
   "cell_type": "code",
   "execution_count": 290,
   "metadata": {},
   "outputs": [],
   "source": [
    "#act\n",
    "\n",
    "eng_dict = dict(zip(act_df['State'], act_df['English']))\n",
    "mathact_dict = dict(zip(act_df['State'], act_df['Math']))\n",
    "reading_dict = dict(zip(act_df['State'], act_df['Reading']))\n",
    "science_dict = dict(zip(act_df['State'], act_df['Science']))\n",
    "composite_dict = dict(zip(act_df['State'], act_df['Composite']))\n",
    "\n",
    "#display(composite_dict)"
   ]
  },
  {
   "cell_type": "markdown",
   "metadata": {},
   "source": [
    "##### 8. Create one dictionary where each key is the column name, and each value is an iterable (a list or a Pandas Series) of all the values in that column."
   ]
  },
  {
   "cell_type": "code",
   "execution_count": 291,
   "metadata": {},
   "outputs": [
    {
     "data": {
      "text/plain": [
       "dict_keys(['participation_sat', 'ebrw', 'math', 'total', 'participation_act', 'english', 'mathact', 'reading', 'science', 'composite'])"
      ]
     },
     "execution_count": 291,
     "metadata": {},
     "output_type": "execute_result"
    }
   ],
   "source": [
    "#one_dict = { column_name: list of all column values }\n",
    "    #one_dict = { [ebrw] : [ebrw_scores], [math] : [math_scores]... }\n",
    "        \n",
    "one_dict = {'participation_sat': list(sat_df['Participation']),\n",
    "            'ebrw': list(sat_df['Evidence-Based Reading and Writing']),\n",
    "            'math': list(sat_df['Math']),\n",
    "            'total': list(sat_df['Total']),\n",
    "            'participation_act': list(act_df['Participation']),\n",
    "            'english': list(act_df['English']),\n",
    "            'mathact': list(act_df['Math']),\n",
    "            'reading': list(act_df['Reading']),\n",
    "            'science': list(act_df['Science']),\n",
    "            'composite': list(act_df['Composite'])\n",
    "           }\n",
    "#returns 51 b/c includes National average row\n",
    "    #print(len(list(sat_df['Evidence-Based Reading and Writing'])))\n",
    "\n",
    "one_dict.keys()"
   ]
  },
  {
   "cell_type": "markdown",
   "metadata": {},
   "source": [
    "##### 9. Merge the dataframes on the state column."
   ]
  },
  {
   "cell_type": "code",
   "execution_count": 292,
   "metadata": {},
   "outputs": [],
   "source": [
    "sat_df.set_index('Unnamed: 0', inplace = True)\n",
    "act_df.set_index('Unnamed: 0', inplace = True)"
   ]
  },
  {
   "cell_type": "code",
   "execution_count": 293,
   "metadata": {},
   "outputs": [
    {
     "name": "stdout",
     "output_type": "stream",
     "text": [
      "(51, 5)\n",
      "(52, 7)\n"
     ]
    }
   ],
   "source": [
    "print(sat_df.shape)\n",
    "print(act_df.shape)"
   ]
  },
  {
   "cell_type": "code",
   "execution_count": 294,
   "metadata": {},
   "outputs": [
    {
     "data": {
      "text/html": [
       "<div>\n",
       "<style scoped>\n",
       "    .dataframe tbody tr th:only-of-type {\n",
       "        vertical-align: middle;\n",
       "    }\n",
       "\n",
       "    .dataframe tbody tr th {\n",
       "        vertical-align: top;\n",
       "    }\n",
       "\n",
       "    .dataframe thead th {\n",
       "        text-align: right;\n",
       "    }\n",
       "</style>\n",
       "<table border=\"1\" class=\"dataframe\">\n",
       "  <thead>\n",
       "    <tr style=\"text-align: right;\">\n",
       "      <th></th>\n",
       "      <th>State</th>\n",
       "      <th>Participation_x</th>\n",
       "      <th>Evidence-Based Reading and Writing</th>\n",
       "      <th>Math_x</th>\n",
       "      <th>Total</th>\n",
       "      <th>Participation_y</th>\n",
       "      <th>English</th>\n",
       "      <th>Math_y</th>\n",
       "      <th>Reading</th>\n",
       "      <th>Science</th>\n",
       "      <th>Composite</th>\n",
       "    </tr>\n",
       "  </thead>\n",
       "  <tbody>\n",
       "    <tr>\n",
       "      <th>0</th>\n",
       "      <td>Alabama</td>\n",
       "      <td>0.05</td>\n",
       "      <td>593</td>\n",
       "      <td>572</td>\n",
       "      <td>1165</td>\n",
       "      <td>1.00</td>\n",
       "      <td>18.9</td>\n",
       "      <td>18.4</td>\n",
       "      <td>19.7</td>\n",
       "      <td>19.4</td>\n",
       "      <td>19.2</td>\n",
       "    </tr>\n",
       "    <tr>\n",
       "      <th>1</th>\n",
       "      <td>Alaska</td>\n",
       "      <td>0.38</td>\n",
       "      <td>547</td>\n",
       "      <td>533</td>\n",
       "      <td>1080</td>\n",
       "      <td>0.65</td>\n",
       "      <td>18.7</td>\n",
       "      <td>19.8</td>\n",
       "      <td>20.4</td>\n",
       "      <td>19.9</td>\n",
       "      <td>19.8</td>\n",
       "    </tr>\n",
       "    <tr>\n",
       "      <th>2</th>\n",
       "      <td>Arizona</td>\n",
       "      <td>0.30</td>\n",
       "      <td>563</td>\n",
       "      <td>553</td>\n",
       "      <td>1116</td>\n",
       "      <td>0.62</td>\n",
       "      <td>18.6</td>\n",
       "      <td>19.8</td>\n",
       "      <td>20.1</td>\n",
       "      <td>19.8</td>\n",
       "      <td>19.7</td>\n",
       "    </tr>\n",
       "    <tr>\n",
       "      <th>3</th>\n",
       "      <td>Arkansas</td>\n",
       "      <td>0.03</td>\n",
       "      <td>614</td>\n",
       "      <td>594</td>\n",
       "      <td>1208</td>\n",
       "      <td>1.00</td>\n",
       "      <td>18.9</td>\n",
       "      <td>19.0</td>\n",
       "      <td>19.7</td>\n",
       "      <td>19.5</td>\n",
       "      <td>19.4</td>\n",
       "    </tr>\n",
       "    <tr>\n",
       "      <th>4</th>\n",
       "      <td>California</td>\n",
       "      <td>0.53</td>\n",
       "      <td>531</td>\n",
       "      <td>524</td>\n",
       "      <td>1055</td>\n",
       "      <td>0.31</td>\n",
       "      <td>22.5</td>\n",
       "      <td>22.7</td>\n",
       "      <td>23.1</td>\n",
       "      <td>22.2</td>\n",
       "      <td>22.8</td>\n",
       "    </tr>\n",
       "  </tbody>\n",
       "</table>\n",
       "</div>"
      ],
      "text/plain": [
       "        State  Participation_x  Evidence-Based Reading and Writing  Math_x  \\\n",
       "0     Alabama             0.05                                 593     572   \n",
       "1      Alaska             0.38                                 547     533   \n",
       "2     Arizona             0.30                                 563     553   \n",
       "3    Arkansas             0.03                                 614     594   \n",
       "4  California             0.53                                 531     524   \n",
       "\n",
       "   Total  Participation_y  English  Math_y  Reading  Science  Composite  \n",
       "0   1165             1.00     18.9    18.4     19.7     19.4       19.2  \n",
       "1   1080             0.65     18.7    19.8     20.4     19.9       19.8  \n",
       "2   1116             0.62     18.6    19.8     20.1     19.8       19.7  \n",
       "3   1208             1.00     18.9    19.0     19.7     19.5       19.4  \n",
       "4   1055             0.31     22.5    22.7     23.1     22.2       22.8  "
      ]
     },
     "metadata": {},
     "output_type": "display_data"
    }
   ],
   "source": [
    "#changing inner to outer returns the extra row in act_df at the bottom, with NaN values for the SAT columns\n",
    "merged_df = pd.merge(sat_df, act_df, how='inner', on='State')\n",
    "\n",
    "display(merged_df.head())"
   ]
  },
  {
   "cell_type": "markdown",
   "metadata": {},
   "source": [
    "##### 10. Change the names of the columns so you can distinguish between the SAT columns and the ACT columns."
   ]
  },
  {
   "cell_type": "code",
   "execution_count": 295,
   "metadata": {},
   "outputs": [
    {
     "data": {
      "text/html": [
       "<div>\n",
       "<style scoped>\n",
       "    .dataframe tbody tr th:only-of-type {\n",
       "        vertical-align: middle;\n",
       "    }\n",
       "\n",
       "    .dataframe tbody tr th {\n",
       "        vertical-align: top;\n",
       "    }\n",
       "\n",
       "    .dataframe thead th {\n",
       "        text-align: right;\n",
       "    }\n",
       "</style>\n",
       "<table border=\"1\" class=\"dataframe\">\n",
       "  <thead>\n",
       "    <tr style=\"text-align: right;\">\n",
       "      <th></th>\n",
       "      <th>state</th>\n",
       "      <th>participation_sat</th>\n",
       "      <th>ebrw_sat</th>\n",
       "      <th>math_sat</th>\n",
       "      <th>total_sat</th>\n",
       "      <th>participation_act</th>\n",
       "      <th>english_act</th>\n",
       "      <th>math_act</th>\n",
       "      <th>reading_act</th>\n",
       "      <th>science_act</th>\n",
       "      <th>composite_act</th>\n",
       "    </tr>\n",
       "  </thead>\n",
       "  <tbody>\n",
       "    <tr>\n",
       "      <th>0</th>\n",
       "      <td>Alabama</td>\n",
       "      <td>0.05</td>\n",
       "      <td>593</td>\n",
       "      <td>572</td>\n",
       "      <td>1165</td>\n",
       "      <td>1.00</td>\n",
       "      <td>18.9</td>\n",
       "      <td>18.4</td>\n",
       "      <td>19.7</td>\n",
       "      <td>19.4</td>\n",
       "      <td>19.2</td>\n",
       "    </tr>\n",
       "    <tr>\n",
       "      <th>1</th>\n",
       "      <td>Alaska</td>\n",
       "      <td>0.38</td>\n",
       "      <td>547</td>\n",
       "      <td>533</td>\n",
       "      <td>1080</td>\n",
       "      <td>0.65</td>\n",
       "      <td>18.7</td>\n",
       "      <td>19.8</td>\n",
       "      <td>20.4</td>\n",
       "      <td>19.9</td>\n",
       "      <td>19.8</td>\n",
       "    </tr>\n",
       "    <tr>\n",
       "      <th>2</th>\n",
       "      <td>Arizona</td>\n",
       "      <td>0.30</td>\n",
       "      <td>563</td>\n",
       "      <td>553</td>\n",
       "      <td>1116</td>\n",
       "      <td>0.62</td>\n",
       "      <td>18.6</td>\n",
       "      <td>19.8</td>\n",
       "      <td>20.1</td>\n",
       "      <td>19.8</td>\n",
       "      <td>19.7</td>\n",
       "    </tr>\n",
       "    <tr>\n",
       "      <th>3</th>\n",
       "      <td>Arkansas</td>\n",
       "      <td>0.03</td>\n",
       "      <td>614</td>\n",
       "      <td>594</td>\n",
       "      <td>1208</td>\n",
       "      <td>1.00</td>\n",
       "      <td>18.9</td>\n",
       "      <td>19.0</td>\n",
       "      <td>19.7</td>\n",
       "      <td>19.5</td>\n",
       "      <td>19.4</td>\n",
       "    </tr>\n",
       "    <tr>\n",
       "      <th>4</th>\n",
       "      <td>California</td>\n",
       "      <td>0.53</td>\n",
       "      <td>531</td>\n",
       "      <td>524</td>\n",
       "      <td>1055</td>\n",
       "      <td>0.31</td>\n",
       "      <td>22.5</td>\n",
       "      <td>22.7</td>\n",
       "      <td>23.1</td>\n",
       "      <td>22.2</td>\n",
       "      <td>22.8</td>\n",
       "    </tr>\n",
       "  </tbody>\n",
       "</table>\n",
       "</div>"
      ],
      "text/plain": [
       "        state  participation_sat  ebrw_sat  math_sat  total_sat  \\\n",
       "0     Alabama               0.05       593       572       1165   \n",
       "1      Alaska               0.38       547       533       1080   \n",
       "2     Arizona               0.30       563       553       1116   \n",
       "3    Arkansas               0.03       614       594       1208   \n",
       "4  California               0.53       531       524       1055   \n",
       "\n",
       "   participation_act  english_act  math_act  reading_act  science_act  \\\n",
       "0               1.00         18.9      18.4         19.7         19.4   \n",
       "1               0.65         18.7      19.8         20.4         19.9   \n",
       "2               0.62         18.6      19.8         20.1         19.8   \n",
       "3               1.00         18.9      19.0         19.7         19.5   \n",
       "4               0.31         22.5      22.7         23.1         22.2   \n",
       "\n",
       "   composite_act  \n",
       "0           19.2  \n",
       "1           19.8  \n",
       "2           19.7  \n",
       "3           19.4  \n",
       "4           22.8  "
      ]
     },
     "execution_count": 295,
     "metadata": {},
     "output_type": "execute_result"
    }
   ],
   "source": [
    "#alternative\n",
    "merged_df.rename(columns = {\n",
    "                     'Unnamed: 0_x': 'index_sat',\n",
    "                     'State': 'state',\n",
    "                     'Participation_x': 'participation_sat',\n",
    "                     'Evidence-Based Reading and Writing': 'ebrw_sat',\n",
    "                     'Math_x': 'math_sat', \n",
    "                     'Total': 'total_sat', \n",
    "                     'Unnamed: 0_y': 'index_act',\n",
    "                     'Participation_y': 'participation_act', \n",
    "                     'English': 'english_act', \n",
    "                     'Math_y': 'math_act',\n",
    "                     'Reading': 'reading_act',\n",
    "                     'Science': 'science_act',\n",
    "                     'Composite': 'composite_act'\n",
    "}, inplace = True)\n",
    "\n",
    "merged_df.head()"
   ]
  },
  {
   "cell_type": "code",
   "execution_count": 296,
   "metadata": {},
   "outputs": [
    {
     "data": {
      "text/html": [
       "<div>\n",
       "<style scoped>\n",
       "    .dataframe tbody tr th:only-of-type {\n",
       "        vertical-align: middle;\n",
       "    }\n",
       "\n",
       "    .dataframe tbody tr th {\n",
       "        vertical-align: top;\n",
       "    }\n",
       "\n",
       "    .dataframe thead th {\n",
       "        text-align: right;\n",
       "    }\n",
       "</style>\n",
       "<table border=\"1\" class=\"dataframe\">\n",
       "  <thead>\n",
       "    <tr style=\"text-align: right;\">\n",
       "      <th></th>\n",
       "      <th>state</th>\n",
       "      <th>participation_sat</th>\n",
       "      <th>ebrw_sat</th>\n",
       "      <th>math_sat</th>\n",
       "      <th>total_sat</th>\n",
       "      <th>participation_act</th>\n",
       "      <th>english_act</th>\n",
       "      <th>math_act</th>\n",
       "      <th>reading_act</th>\n",
       "      <th>science_act</th>\n",
       "      <th>composite_act</th>\n",
       "    </tr>\n",
       "  </thead>\n",
       "  <tbody>\n",
       "    <tr>\n",
       "      <th>0</th>\n",
       "      <td>Alabama</td>\n",
       "      <td>0.05</td>\n",
       "      <td>593</td>\n",
       "      <td>572</td>\n",
       "      <td>1165</td>\n",
       "      <td>1.00</td>\n",
       "      <td>18.9</td>\n",
       "      <td>18.4</td>\n",
       "      <td>19.7</td>\n",
       "      <td>19.4</td>\n",
       "      <td>19.2</td>\n",
       "    </tr>\n",
       "    <tr>\n",
       "      <th>1</th>\n",
       "      <td>Alaska</td>\n",
       "      <td>0.38</td>\n",
       "      <td>547</td>\n",
       "      <td>533</td>\n",
       "      <td>1080</td>\n",
       "      <td>0.65</td>\n",
       "      <td>18.7</td>\n",
       "      <td>19.8</td>\n",
       "      <td>20.4</td>\n",
       "      <td>19.9</td>\n",
       "      <td>19.8</td>\n",
       "    </tr>\n",
       "    <tr>\n",
       "      <th>2</th>\n",
       "      <td>Arizona</td>\n",
       "      <td>0.30</td>\n",
       "      <td>563</td>\n",
       "      <td>553</td>\n",
       "      <td>1116</td>\n",
       "      <td>0.62</td>\n",
       "      <td>18.6</td>\n",
       "      <td>19.8</td>\n",
       "      <td>20.1</td>\n",
       "      <td>19.8</td>\n",
       "      <td>19.7</td>\n",
       "    </tr>\n",
       "    <tr>\n",
       "      <th>3</th>\n",
       "      <td>Arkansas</td>\n",
       "      <td>0.03</td>\n",
       "      <td>614</td>\n",
       "      <td>594</td>\n",
       "      <td>1208</td>\n",
       "      <td>1.00</td>\n",
       "      <td>18.9</td>\n",
       "      <td>19.0</td>\n",
       "      <td>19.7</td>\n",
       "      <td>19.5</td>\n",
       "      <td>19.4</td>\n",
       "    </tr>\n",
       "    <tr>\n",
       "      <th>4</th>\n",
       "      <td>California</td>\n",
       "      <td>0.53</td>\n",
       "      <td>531</td>\n",
       "      <td>524</td>\n",
       "      <td>1055</td>\n",
       "      <td>0.31</td>\n",
       "      <td>22.5</td>\n",
       "      <td>22.7</td>\n",
       "      <td>23.1</td>\n",
       "      <td>22.2</td>\n",
       "      <td>22.8</td>\n",
       "    </tr>\n",
       "  </tbody>\n",
       "</table>\n",
       "</div>"
      ],
      "text/plain": [
       "        state  participation_sat  ebrw_sat  math_sat  total_sat  \\\n",
       "0     Alabama               0.05       593       572       1165   \n",
       "1      Alaska               0.38       547       533       1080   \n",
       "2     Arizona               0.30       563       553       1116   \n",
       "3    Arkansas               0.03       614       594       1208   \n",
       "4  California               0.53       531       524       1055   \n",
       "\n",
       "   participation_act  english_act  math_act  reading_act  science_act  \\\n",
       "0               1.00         18.9      18.4         19.7         19.4   \n",
       "1               0.65         18.7      19.8         20.4         19.9   \n",
       "2               0.62         18.6      19.8         20.1         19.8   \n",
       "3               1.00         18.9      19.0         19.7         19.5   \n",
       "4               0.31         22.5      22.7         23.1         22.2   \n",
       "\n",
       "   composite_act  \n",
       "0           19.2  \n",
       "1           19.8  \n",
       "2           19.7  \n",
       "3           19.4  \n",
       "4           22.8  "
      ]
     },
     "execution_count": 296,
     "metadata": {},
     "output_type": "execute_result"
    }
   ],
   "source": [
    "merged_df.head()"
   ]
  },
  {
   "cell_type": "code",
   "execution_count": 297,
   "metadata": {},
   "outputs": [
    {
     "data": {
      "text/plain": [
       "Index(['state', 'participation_sat', 'ebrw_sat', 'math_sat', 'total_sat',\n",
       "       'participation_act', 'english_act', 'math_act', 'reading_act',\n",
       "       'science_act', 'composite_act'],\n",
       "      dtype='object')"
      ]
     },
     "metadata": {},
     "output_type": "display_data"
    },
    {
     "data": {
      "text/plain": [
       "state                 object\n",
       "participation_sat    float64\n",
       "ebrw_sat               int64\n",
       "math_sat               int64\n",
       "total_sat              int64\n",
       "participation_act    float64\n",
       "english_act          float64\n",
       "math_act             float64\n",
       "reading_act          float64\n",
       "science_act          float64\n",
       "composite_act        float64\n",
       "dtype: object"
      ]
     },
     "metadata": {},
     "output_type": "display_data"
    }
   ],
   "source": [
    "#merged_df.columns = ['index_sat', 'state', 'participation_sat', 'ebrw_sat', 'math_sat', 'total_sat', 'index_act', 'participation_act', 'english_act', 'math_act', 'reading_act', 'science_act', 'composite_act']\n",
    "\n",
    "display(merged_df.columns)\n",
    "display(merged_df.dtypes)\n",
    "#below works for replacing column values, not columns themselves\n",
    "    #merged_df.replace('Test', 'Alabama')"
   ]
  },
  {
   "cell_type": "markdown",
   "metadata": {},
   "source": [
    "##### 11. Print the minimum and maximum of each numeric column in the data frame."
   ]
  },
  {
   "cell_type": "code",
   "execution_count": 298,
   "metadata": {},
   "outputs": [
    {
     "data": {
      "text/html": [
       "<div>\n",
       "<style scoped>\n",
       "    .dataframe tbody tr th:only-of-type {\n",
       "        vertical-align: middle;\n",
       "    }\n",
       "\n",
       "    .dataframe tbody tr th {\n",
       "        vertical-align: top;\n",
       "    }\n",
       "\n",
       "    .dataframe thead th {\n",
       "        text-align: right;\n",
       "    }\n",
       "</style>\n",
       "<table border=\"1\" class=\"dataframe\">\n",
       "  <thead>\n",
       "    <tr style=\"text-align: right;\">\n",
       "      <th></th>\n",
       "      <th>participation_sat</th>\n",
       "      <th>ebrw_sat</th>\n",
       "      <th>math_sat</th>\n",
       "      <th>total_sat</th>\n",
       "      <th>participation_act</th>\n",
       "      <th>english_act</th>\n",
       "      <th>math_act</th>\n",
       "      <th>reading_act</th>\n",
       "      <th>science_act</th>\n",
       "      <th>composite_act</th>\n",
       "    </tr>\n",
       "  </thead>\n",
       "  <tbody>\n",
       "    <tr>\n",
       "      <th>count</th>\n",
       "      <td>51.000000</td>\n",
       "      <td>51.000000</td>\n",
       "      <td>51.000000</td>\n",
       "      <td>51.000000</td>\n",
       "      <td>51.000000</td>\n",
       "      <td>51.000000</td>\n",
       "      <td>51.000000</td>\n",
       "      <td>51.000000</td>\n",
       "      <td>51.000000</td>\n",
       "      <td>51.000000</td>\n",
       "    </tr>\n",
       "    <tr>\n",
       "      <th>mean</th>\n",
       "      <td>0.398039</td>\n",
       "      <td>569.117647</td>\n",
       "      <td>547.627451</td>\n",
       "      <td>1126.098039</td>\n",
       "      <td>0.652549</td>\n",
       "      <td>20.931373</td>\n",
       "      <td>21.182353</td>\n",
       "      <td>22.013725</td>\n",
       "      <td>21.041176</td>\n",
       "      <td>21.519608</td>\n",
       "    </tr>\n",
       "    <tr>\n",
       "      <th>std</th>\n",
       "      <td>0.352766</td>\n",
       "      <td>45.666901</td>\n",
       "      <td>84.909119</td>\n",
       "      <td>92.494812</td>\n",
       "      <td>0.321408</td>\n",
       "      <td>2.353677</td>\n",
       "      <td>1.981989</td>\n",
       "      <td>2.067271</td>\n",
       "      <td>3.182463</td>\n",
       "      <td>2.020695</td>\n",
       "    </tr>\n",
       "    <tr>\n",
       "      <th>min</th>\n",
       "      <td>0.020000</td>\n",
       "      <td>482.000000</td>\n",
       "      <td>52.000000</td>\n",
       "      <td>950.000000</td>\n",
       "      <td>0.080000</td>\n",
       "      <td>16.300000</td>\n",
       "      <td>18.000000</td>\n",
       "      <td>18.100000</td>\n",
       "      <td>2.300000</td>\n",
       "      <td>17.800000</td>\n",
       "    </tr>\n",
       "    <tr>\n",
       "      <th>25%</th>\n",
       "      <td>0.040000</td>\n",
       "      <td>533.500000</td>\n",
       "      <td>522.000000</td>\n",
       "      <td>1055.500000</td>\n",
       "      <td>0.310000</td>\n",
       "      <td>19.000000</td>\n",
       "      <td>19.400000</td>\n",
       "      <td>20.450000</td>\n",
       "      <td>19.900000</td>\n",
       "      <td>19.800000</td>\n",
       "    </tr>\n",
       "    <tr>\n",
       "      <th>50%</th>\n",
       "      <td>0.380000</td>\n",
       "      <td>559.000000</td>\n",
       "      <td>548.000000</td>\n",
       "      <td>1107.000000</td>\n",
       "      <td>0.690000</td>\n",
       "      <td>20.700000</td>\n",
       "      <td>20.900000</td>\n",
       "      <td>21.800000</td>\n",
       "      <td>21.300000</td>\n",
       "      <td>21.400000</td>\n",
       "    </tr>\n",
       "    <tr>\n",
       "      <th>75%</th>\n",
       "      <td>0.660000</td>\n",
       "      <td>613.000000</td>\n",
       "      <td>599.000000</td>\n",
       "      <td>1212.000000</td>\n",
       "      <td>1.000000</td>\n",
       "      <td>23.300000</td>\n",
       "      <td>23.100000</td>\n",
       "      <td>24.150000</td>\n",
       "      <td>22.750000</td>\n",
       "      <td>23.600000</td>\n",
       "    </tr>\n",
       "    <tr>\n",
       "      <th>max</th>\n",
       "      <td>1.000000</td>\n",
       "      <td>644.000000</td>\n",
       "      <td>651.000000</td>\n",
       "      <td>1295.000000</td>\n",
       "      <td>1.000000</td>\n",
       "      <td>25.500000</td>\n",
       "      <td>25.300000</td>\n",
       "      <td>26.000000</td>\n",
       "      <td>24.900000</td>\n",
       "      <td>25.500000</td>\n",
       "    </tr>\n",
       "  </tbody>\n",
       "</table>\n",
       "</div>"
      ],
      "text/plain": [
       "       participation_sat    ebrw_sat    math_sat    total_sat  \\\n",
       "count          51.000000   51.000000   51.000000    51.000000   \n",
       "mean            0.398039  569.117647  547.627451  1126.098039   \n",
       "std             0.352766   45.666901   84.909119    92.494812   \n",
       "min             0.020000  482.000000   52.000000   950.000000   \n",
       "25%             0.040000  533.500000  522.000000  1055.500000   \n",
       "50%             0.380000  559.000000  548.000000  1107.000000   \n",
       "75%             0.660000  613.000000  599.000000  1212.000000   \n",
       "max             1.000000  644.000000  651.000000  1295.000000   \n",
       "\n",
       "       participation_act  english_act   math_act  reading_act  science_act  \\\n",
       "count          51.000000    51.000000  51.000000    51.000000    51.000000   \n",
       "mean            0.652549    20.931373  21.182353    22.013725    21.041176   \n",
       "std             0.321408     2.353677   1.981989     2.067271     3.182463   \n",
       "min             0.080000    16.300000  18.000000    18.100000     2.300000   \n",
       "25%             0.310000    19.000000  19.400000    20.450000    19.900000   \n",
       "50%             0.690000    20.700000  20.900000    21.800000    21.300000   \n",
       "75%             1.000000    23.300000  23.100000    24.150000    22.750000   \n",
       "max             1.000000    25.500000  25.300000    26.000000    24.900000   \n",
       "\n",
       "       composite_act  \n",
       "count      51.000000  \n",
       "mean       21.519608  \n",
       "std         2.020695  \n",
       "min        17.800000  \n",
       "25%        19.800000  \n",
       "50%        21.400000  \n",
       "75%        23.600000  \n",
       "max        25.500000  "
      ]
     },
     "execution_count": 298,
     "metadata": {},
     "output_type": "execute_result"
    }
   ],
   "source": [
    "merged_df.describe()"
   ]
  },
  {
   "cell_type": "code",
   "execution_count": 299,
   "metadata": {},
   "outputs": [],
   "source": [
    "num_df = merged_df.select_dtypes(include = ('float64', 'int64'))\n",
    "#print('numeric_columns_max: \\n', num_df.max(), '\\n\\n', 'numeric_columns_min: \\n', num_df.min())"
   ]
  },
  {
   "cell_type": "markdown",
   "metadata": {},
   "source": [
    "##### 12. Write a function using only list comprehensions, no loops, to compute standard deviation. Using this function, calculate the standard deviation of each numeric column in both data sets. Add these to a list called `sd`.\n",
    "\n",
    "$$\\sigma = \\sqrt{\\frac{1}{n}\\sum_{i=1}^n(x_i - \\mu)^2}$$"
   ]
  },
  {
   "cell_type": "code",
   "execution_count": 300,
   "metadata": {},
   "outputs": [
    {
     "data": {
      "text/plain": [
       "[0.35276632270013036,\n",
       " 45.66690138768932,\n",
       " 84.90911865855486,\n",
       " 92.49481172519046,\n",
       " 0.32140842015886834,\n",
       " 2.35367713980303,\n",
       " 1.9819894936505533,\n",
       " 2.0672706264873146,\n",
       " 3.182462975155452,\n",
       " 2.020694891154341]"
      ]
     },
     "metadata": {},
     "output_type": "display_data"
    }
   ],
   "source": [
    "import numpy as np\n",
    "#num_df.head()\n",
    "\n",
    "sd = []\n",
    "[sd.append(num_df[i].std()) for i in num_df.columns]\n",
    "display(sd)"
   ]
  },
  {
   "cell_type": "code",
   "execution_count": 301,
   "metadata": {},
   "outputs": [],
   "source": [
    "#DISREGARD: scratch\n",
    "\n",
    "#import numpy as np\n",
    "#np.mean(merged_numeric_df['participation_sat'].values)\n",
    "#merged_numeric_df.iloc[:3,0:1]\n",
    "#display(one_dict.keys())\n",
    "\n",
    "#manual looping\n",
    "#sd = []\n",
    "#for test in merged_numeric_df:\n",
    "    #score_mean = np.mean(merged_numeric_df[test])\n",
    "    #score = (merged_numeric_df[test])\n",
    "    #subtracting 1 below because otherwise n counts header as a row\n",
    "    #n = len(merged_numeric_df[test]) - 1\n",
    "    #std = np.sqrt((sum((score - score_mean)**2) / n))\n",
    "    #originally TypeError: 'builtin_function_or_method' object is not subscriptable b/c I was using [] instead of ()\n",
    "        #was not calling the function the right way\n",
    "    #sd.append(std)\n",
    "    #print(test, score_mean, std)\n",
    "    #QUESTION: why SyntaxError: 'return' outside function here?\n",
    "    \n",
    "#sd\n",
    "    #QUESTION: how to get rid of National row in act_df?\n"
   ]
  },
  {
   "cell_type": "markdown",
   "metadata": {},
   "source": [
    "## Step 2: Manipulate the dataframe"
   ]
  },
  {
   "cell_type": "markdown",
   "metadata": {},
   "source": [
    "##### 13. Turn the list `sd` into a new observation in your dataset."
   ]
  },
  {
   "cell_type": "code",
   "execution_count": 302,
   "metadata": {},
   "outputs": [
    {
     "name": "stderr",
     "output_type": "stream",
     "text": [
      "/Users/chelen/anaconda3/lib/python3.6/site-packages/ipykernel/__main__.py:2: SettingWithCopyWarning: \n",
      "A value is trying to be set on a copy of a slice from a DataFrame\n",
      "\n",
      "See the caveats in the documentation: http://pandas.pydata.org/pandas-docs/stable/indexing.html#indexing-view-versus-copy\n",
      "  from ipykernel import kernelapp as app\n"
     ]
    },
    {
     "data": {
      "text/html": [
       "<div>\n",
       "<style scoped>\n",
       "    .dataframe tbody tr th:only-of-type {\n",
       "        vertical-align: middle;\n",
       "    }\n",
       "\n",
       "    .dataframe tbody tr th {\n",
       "        vertical-align: top;\n",
       "    }\n",
       "\n",
       "    .dataframe thead th {\n",
       "        text-align: right;\n",
       "    }\n",
       "</style>\n",
       "<table border=\"1\" class=\"dataframe\">\n",
       "  <thead>\n",
       "    <tr style=\"text-align: right;\">\n",
       "      <th></th>\n",
       "      <th>participation_sat</th>\n",
       "      <th>ebrw_sat</th>\n",
       "      <th>math_sat</th>\n",
       "      <th>total_sat</th>\n",
       "      <th>participation_act</th>\n",
       "      <th>english_act</th>\n",
       "      <th>math_act</th>\n",
       "      <th>reading_act</th>\n",
       "      <th>science_act</th>\n",
       "      <th>composite_act</th>\n",
       "    </tr>\n",
       "  </thead>\n",
       "  <tbody>\n",
       "    <tr>\n",
       "      <th>49</th>\n",
       "      <td>0.030000</td>\n",
       "      <td>642.000000</td>\n",
       "      <td>649.000000</td>\n",
       "      <td>1291.000000</td>\n",
       "      <td>1.000000</td>\n",
       "      <td>19.700000</td>\n",
       "      <td>20.400000</td>\n",
       "      <td>20.600000</td>\n",
       "      <td>20.900000</td>\n",
       "      <td>20.500000</td>\n",
       "    </tr>\n",
       "    <tr>\n",
       "      <th>50</th>\n",
       "      <td>0.030000</td>\n",
       "      <td>626.000000</td>\n",
       "      <td>604.000000</td>\n",
       "      <td>1230.000000</td>\n",
       "      <td>1.000000</td>\n",
       "      <td>19.400000</td>\n",
       "      <td>19.800000</td>\n",
       "      <td>20.800000</td>\n",
       "      <td>20.600000</td>\n",
       "      <td>20.200000</td>\n",
       "    </tr>\n",
       "    <tr>\n",
       "      <th>51</th>\n",
       "      <td>0.352766</td>\n",
       "      <td>45.666901</td>\n",
       "      <td>84.909119</td>\n",
       "      <td>92.494812</td>\n",
       "      <td>0.321408</td>\n",
       "      <td>2.353677</td>\n",
       "      <td>1.981989</td>\n",
       "      <td>2.067271</td>\n",
       "      <td>3.182463</td>\n",
       "      <td>2.020695</td>\n",
       "    </tr>\n",
       "  </tbody>\n",
       "</table>\n",
       "</div>"
      ],
      "text/plain": [
       "    participation_sat    ebrw_sat    math_sat    total_sat  participation_act  \\\n",
       "49           0.030000  642.000000  649.000000  1291.000000           1.000000   \n",
       "50           0.030000  626.000000  604.000000  1230.000000           1.000000   \n",
       "51           0.352766   45.666901   84.909119    92.494812           0.321408   \n",
       "\n",
       "    english_act   math_act  reading_act  science_act  composite_act  \n",
       "49    19.700000  20.400000    20.600000    20.900000      20.500000  \n",
       "50    19.400000  19.800000    20.800000    20.600000      20.200000  \n",
       "51     2.353677   1.981989     2.067271     3.182463       2.020695  "
      ]
     },
     "execution_count": 302,
     "metadata": {},
     "output_type": "execute_result"
    }
   ],
   "source": [
    "#num_df.columns\n",
    "num_df.loc[51, 'participation_sat':'composite_act'] = sd\n",
    "num_df.tail(3)"
   ]
  },
  {
   "cell_type": "markdown",
   "metadata": {},
   "source": [
    "##### 14. Sort the dataframe by the values in a numeric column (e.g. observations descending by SAT participation rate)"
   ]
  },
  {
   "cell_type": "code",
   "execution_count": 303,
   "metadata": {},
   "outputs": [
    {
     "data": {
      "text/html": [
       "<div>\n",
       "<style scoped>\n",
       "    .dataframe tbody tr th:only-of-type {\n",
       "        vertical-align: middle;\n",
       "    }\n",
       "\n",
       "    .dataframe tbody tr th {\n",
       "        vertical-align: top;\n",
       "    }\n",
       "\n",
       "    .dataframe thead th {\n",
       "        text-align: right;\n",
       "    }\n",
       "</style>\n",
       "<table border=\"1\" class=\"dataframe\">\n",
       "  <thead>\n",
       "    <tr style=\"text-align: right;\">\n",
       "      <th></th>\n",
       "      <th>participation_sat</th>\n",
       "      <th>ebrw_sat</th>\n",
       "      <th>math_sat</th>\n",
       "      <th>total_sat</th>\n",
       "      <th>participation_act</th>\n",
       "      <th>english_act</th>\n",
       "      <th>math_act</th>\n",
       "      <th>reading_act</th>\n",
       "      <th>science_act</th>\n",
       "      <th>composite_act</th>\n",
       "    </tr>\n",
       "  </thead>\n",
       "  <tbody>\n",
       "    <tr>\n",
       "      <th>22</th>\n",
       "      <td>1.00</td>\n",
       "      <td>509.0</td>\n",
       "      <td>495.0</td>\n",
       "      <td>1005.0</td>\n",
       "      <td>0.29</td>\n",
       "      <td>24.1</td>\n",
       "      <td>23.7</td>\n",
       "      <td>24.5</td>\n",
       "      <td>23.8</td>\n",
       "      <td>24.1</td>\n",
       "    </tr>\n",
       "    <tr>\n",
       "      <th>6</th>\n",
       "      <td>1.00</td>\n",
       "      <td>530.0</td>\n",
       "      <td>512.0</td>\n",
       "      <td>1041.0</td>\n",
       "      <td>0.31</td>\n",
       "      <td>25.5</td>\n",
       "      <td>24.6</td>\n",
       "      <td>25.6</td>\n",
       "      <td>24.6</td>\n",
       "      <td>25.2</td>\n",
       "    </tr>\n",
       "    <tr>\n",
       "      <th>7</th>\n",
       "      <td>1.00</td>\n",
       "      <td>503.0</td>\n",
       "      <td>492.0</td>\n",
       "      <td>996.0</td>\n",
       "      <td>0.18</td>\n",
       "      <td>24.1</td>\n",
       "      <td>23.4</td>\n",
       "      <td>24.8</td>\n",
       "      <td>23.6</td>\n",
       "      <td>24.1</td>\n",
       "    </tr>\n",
       "    <tr>\n",
       "      <th>8</th>\n",
       "      <td>1.00</td>\n",
       "      <td>482.0</td>\n",
       "      <td>468.0</td>\n",
       "      <td>950.0</td>\n",
       "      <td>0.32</td>\n",
       "      <td>24.4</td>\n",
       "      <td>23.5</td>\n",
       "      <td>24.9</td>\n",
       "      <td>23.5</td>\n",
       "      <td>24.2</td>\n",
       "    </tr>\n",
       "    <tr>\n",
       "      <th>29</th>\n",
       "      <td>0.96</td>\n",
       "      <td>532.0</td>\n",
       "      <td>520.0</td>\n",
       "      <td>1052.0</td>\n",
       "      <td>0.18</td>\n",
       "      <td>25.4</td>\n",
       "      <td>25.1</td>\n",
       "      <td>26.0</td>\n",
       "      <td>24.9</td>\n",
       "      <td>25.5</td>\n",
       "    </tr>\n",
       "  </tbody>\n",
       "</table>\n",
       "</div>"
      ],
      "text/plain": [
       "    participation_sat  ebrw_sat  math_sat  total_sat  participation_act  \\\n",
       "22               1.00     509.0     495.0     1005.0               0.29   \n",
       "6                1.00     530.0     512.0     1041.0               0.31   \n",
       "7                1.00     503.0     492.0      996.0               0.18   \n",
       "8                1.00     482.0     468.0      950.0               0.32   \n",
       "29               0.96     532.0     520.0     1052.0               0.18   \n",
       "\n",
       "    english_act  math_act  reading_act  science_act  composite_act  \n",
       "22         24.1      23.7         24.5         23.8           24.1  \n",
       "6          25.5      24.6         25.6         24.6           25.2  \n",
       "7          24.1      23.4         24.8         23.6           24.1  \n",
       "8          24.4      23.5         24.9         23.5           24.2  \n",
       "29         25.4      25.1         26.0         24.9           25.5  "
      ]
     },
     "execution_count": 303,
     "metadata": {},
     "output_type": "execute_result"
    }
   ],
   "source": [
    "num_df.sort_values(['participation_sat'], ascending = False).head()"
   ]
  },
  {
   "cell_type": "markdown",
   "metadata": {},
   "source": [
    "##### 15. Use a boolean filter to display only observations with a score above a certain threshold (e.g. only states with a participation rate above 50%)"
   ]
  },
  {
   "cell_type": "code",
   "execution_count": 304,
   "metadata": {},
   "outputs": [
    {
     "data": {
      "text/html": [
       "<div>\n",
       "<style scoped>\n",
       "    .dataframe tbody tr th:only-of-type {\n",
       "        vertical-align: middle;\n",
       "    }\n",
       "\n",
       "    .dataframe tbody tr th {\n",
       "        vertical-align: top;\n",
       "    }\n",
       "\n",
       "    .dataframe thead th {\n",
       "        text-align: right;\n",
       "    }\n",
       "</style>\n",
       "<table border=\"1\" class=\"dataframe\">\n",
       "  <thead>\n",
       "    <tr style=\"text-align: right;\">\n",
       "      <th></th>\n",
       "      <th>participation_sat</th>\n",
       "      <th>ebrw_sat</th>\n",
       "      <th>math_sat</th>\n",
       "      <th>total_sat</th>\n",
       "      <th>participation_act</th>\n",
       "      <th>english_act</th>\n",
       "      <th>math_act</th>\n",
       "      <th>reading_act</th>\n",
       "      <th>science_act</th>\n",
       "      <th>composite_act</th>\n",
       "    </tr>\n",
       "  </thead>\n",
       "  <tbody>\n",
       "    <tr>\n",
       "      <th>4</th>\n",
       "      <td>0.53</td>\n",
       "      <td>531.0</td>\n",
       "      <td>524.0</td>\n",
       "      <td>1055.0</td>\n",
       "      <td>0.31</td>\n",
       "      <td>22.5</td>\n",
       "      <td>22.7</td>\n",
       "      <td>23.1</td>\n",
       "      <td>22.2</td>\n",
       "      <td>22.8</td>\n",
       "    </tr>\n",
       "    <tr>\n",
       "      <th>6</th>\n",
       "      <td>1.00</td>\n",
       "      <td>530.0</td>\n",
       "      <td>512.0</td>\n",
       "      <td>1041.0</td>\n",
       "      <td>0.31</td>\n",
       "      <td>25.5</td>\n",
       "      <td>24.6</td>\n",
       "      <td>25.6</td>\n",
       "      <td>24.6</td>\n",
       "      <td>25.2</td>\n",
       "    </tr>\n",
       "    <tr>\n",
       "      <th>7</th>\n",
       "      <td>1.00</td>\n",
       "      <td>503.0</td>\n",
       "      <td>492.0</td>\n",
       "      <td>996.0</td>\n",
       "      <td>0.18</td>\n",
       "      <td>24.1</td>\n",
       "      <td>23.4</td>\n",
       "      <td>24.8</td>\n",
       "      <td>23.6</td>\n",
       "      <td>24.1</td>\n",
       "    </tr>\n",
       "    <tr>\n",
       "      <th>8</th>\n",
       "      <td>1.00</td>\n",
       "      <td>482.0</td>\n",
       "      <td>468.0</td>\n",
       "      <td>950.0</td>\n",
       "      <td>0.32</td>\n",
       "      <td>24.4</td>\n",
       "      <td>23.5</td>\n",
       "      <td>24.9</td>\n",
       "      <td>23.5</td>\n",
       "      <td>24.2</td>\n",
       "    </tr>\n",
       "    <tr>\n",
       "      <th>9</th>\n",
       "      <td>0.83</td>\n",
       "      <td>520.0</td>\n",
       "      <td>497.0</td>\n",
       "      <td>1017.0</td>\n",
       "      <td>0.73</td>\n",
       "      <td>19.0</td>\n",
       "      <td>19.4</td>\n",
       "      <td>21.0</td>\n",
       "      <td>19.4</td>\n",
       "      <td>19.8</td>\n",
       "    </tr>\n",
       "  </tbody>\n",
       "</table>\n",
       "</div>"
      ],
      "text/plain": [
       "   participation_sat  ebrw_sat  math_sat  total_sat  participation_act  \\\n",
       "4               0.53     531.0     524.0     1055.0               0.31   \n",
       "6               1.00     530.0     512.0     1041.0               0.31   \n",
       "7               1.00     503.0     492.0      996.0               0.18   \n",
       "8               1.00     482.0     468.0      950.0               0.32   \n",
       "9               0.83     520.0     497.0     1017.0               0.73   \n",
       "\n",
       "   english_act  math_act  reading_act  science_act  composite_act  \n",
       "4         22.5      22.7         23.1         22.2           22.8  \n",
       "6         25.5      24.6         25.6         24.6           25.2  \n",
       "7         24.1      23.4         24.8         23.6           24.1  \n",
       "8         24.4      23.5         24.9         23.5           24.2  \n",
       "9         19.0      19.4         21.0         19.4           19.8  "
      ]
     },
     "execution_count": 304,
     "metadata": {},
     "output_type": "execute_result"
    }
   ],
   "source": [
    "mask = num_df['participation_sat'] > 0.5\n",
    "num_df[mask].head()"
   ]
  },
  {
   "cell_type": "markdown",
   "metadata": {},
   "source": [
    "## Step 3: Visualize the data"
   ]
  },
  {
   "cell_type": "markdown",
   "metadata": {
    "collapsed": true
   },
   "source": [
    "##### 16. Using MatPlotLib and PyPlot, plot the distribution of the Rate columns for both SAT and ACT using histograms. (You should have two histograms. You might find [this link](https://matplotlib.org/users/pyplot_tutorial.html#working-with-multiple-figures-and-axes) helpful in organizing one plot above the other.) "
   ]
  },
  {
   "cell_type": "code",
   "execution_count": 305,
   "metadata": {},
   "outputs": [],
   "source": [
    "#del merged_numeric_df"
   ]
  },
  {
   "cell_type": "code",
   "execution_count": 306,
   "metadata": {
    "scrolled": true
   },
   "outputs": [
    {
     "data": {
      "image/png": "[encoded data removed]",
      "text/plain": [
       "<matplotlib.figure.Figure at 0x11d6ef400>"
      ]
     },
     "metadata": {},
     "output_type": "display_data"
    }
   ],
   "source": [
    "import matplotlib.pyplot as plt\n",
    "figure, ax = plt.subplots(nrows = 2, ncols = 1, figsize = (8,4))\n",
    "\n",
    "num_df['participation_sat'].plot(kind = 'hist', ax = ax[0], title = 'participation: sat');\n",
    "num_df['participation_act'].plot(kind = 'hist', ax = ax[1], title = 'participation: act');\n",
    "\n",
    "plt.tight_layout()\n",
    "\n",
    "#QUESTION: below doesn't seem to take in ax / doesn't play well with subplots\n",
    "#plt.hist(merged_numeric_df['participation_sat'], ax[0]);\n",
    "#plt.hist(merged_numeric_df['participation_act'], title = 'participation: act');"
   ]
  },
  {
   "cell_type": "markdown",
   "metadata": {},
   "source": [
    "##### 17. Plot the Math(s) distributions from both data sets."
   ]
  },
  {
   "cell_type": "code",
   "execution_count": 307,
   "metadata": {},
   "outputs": [
    {
     "data": {
      "image/png": "[encoded data removed]",
      "text/plain": [
       "<matplotlib.figure.Figure at 0x11d6d56d8>"
      ]
     },
     "metadata": {},
     "output_type": "display_data"
    }
   ],
   "source": [
    "figure, ax = plt.subplots(nrows = 2, ncols = 1, figsize = (8,4))\n",
    "\n",
    "num_df['math_sat'].plot(kind = 'hist', ax = ax[0], title = 'math: sat');\n",
    "num_df['math_act'].plot(kind = 'hist', ax = ax[1], title = 'math: act');\n",
    "\n",
    "plt.tight_layout()"
   ]
  },
  {
   "cell_type": "markdown",
   "metadata": {},
   "source": [
    "##### 18. Plot the Verbal distributions from both data sets."
   ]
  },
  {
   "cell_type": "code",
   "execution_count": 308,
   "metadata": {},
   "outputs": [
    {
     "data": {
      "image/png": "[encoded data removed]",
      "text/plain": [
       "<matplotlib.figure.Figure at 0x11c31e2e8>"
      ]
     },
     "metadata": {},
     "output_type": "display_data"
    }
   ],
   "source": [
    "figure, ax = plt.subplots(nrows = 1, ncols = 2, figsize = (8,4))\n",
    "\n",
    "num_df['ebrw_sat'].plot(kind = 'hist', ax = ax[0], title = 'ebrw: sat');\n",
    "\n",
    "#add reading and english act scores into new column: verbal_act\n",
    "num_df['verbal_act'] = num_df['reading_act'] + num_df['english_act']\n",
    "num_df['verbal_act'].plot(kind = 'hist', ax = ax[1], title = 'verbal: act');\n",
    "\n",
    "plt.tight_layout()"
   ]
  },
  {
   "cell_type": "markdown",
   "metadata": {},
   "source": [
    "##### 19. When we make assumptions about how data are distributed, what is the most common assumption?"
   ]
  },
  {
   "cell_type": "markdown",
   "metadata": {},
   "source": [
    "Underlying assumption: our population data is normally distributed."
   ]
  },
  {
   "cell_type": "markdown",
   "metadata": {},
   "source": [
    "##### 20. Does this assumption hold true for any of our columns? Which?"
   ]
  },
  {
   "cell_type": "code",
   "execution_count": 309,
   "metadata": {},
   "outputs": [
    {
     "ename": "ValueError",
     "evalue": "num must be 1 <= num <= 10, not 11",
     "output_type": "error",
     "traceback": [
      "\u001b[0;31m---------------------------------------------------------------------------\u001b[0m",
      "\u001b[0;31mValueError\u001b[0m                                Traceback (most recent call last)",
      "\u001b[0;32m<ipython-input-309-584c8eae364d>\u001b[0m in \u001b[0;36m<module>\u001b[0;34m()\u001b[0m\n\u001b[1;32m      4\u001b[0m \u001b[0;34m\u001b[0m\u001b[0m\n\u001b[1;32m      5\u001b[0m \u001b[0;32mfor\u001b[0m \u001b[0mi\u001b[0m\u001b[0;34m,\u001b[0m \u001b[0mcol\u001b[0m \u001b[0;32min\u001b[0m \u001b[0menumerate\u001b[0m\u001b[0;34m(\u001b[0m\u001b[0mnum_df\u001b[0m\u001b[0;34m.\u001b[0m\u001b[0mcolumns\u001b[0m\u001b[0;34m)\u001b[0m\u001b[0;34m:\u001b[0m\u001b[0;34m\u001b[0m\u001b[0m\n\u001b[0;32m----> 6\u001b[0;31m     \u001b[0mfig\u001b[0m\u001b[0;34m.\u001b[0m\u001b[0madd_subplot\u001b[0m\u001b[0;34m(\u001b[0m\u001b[0;36m2\u001b[0m\u001b[0;34m,\u001b[0m \u001b[0;36m5\u001b[0m\u001b[0;34m,\u001b[0m \u001b[0;36m1\u001b[0m\u001b[0;34m+\u001b[0m\u001b[0mi\u001b[0m\u001b[0;34m)\u001b[0m\u001b[0;34m\u001b[0m\u001b[0m\n\u001b[0m\u001b[1;32m      7\u001b[0m     \u001b[0mplt\u001b[0m\u001b[0;34m.\u001b[0m\u001b[0mhist\u001b[0m\u001b[0;34m(\u001b[0m\u001b[0mnum_df\u001b[0m\u001b[0;34m[\u001b[0m\u001b[0mcol\u001b[0m\u001b[0;34m]\u001b[0m\u001b[0;34m)\u001b[0m\u001b[0;34m\u001b[0m\u001b[0m\n\u001b[1;32m      8\u001b[0m     \u001b[0mplt\u001b[0m\u001b[0;34m.\u001b[0m\u001b[0mtitle\u001b[0m\u001b[0;34m(\u001b[0m\u001b[0mcol\u001b[0m\u001b[0;34m)\u001b[0m\u001b[0;34m;\u001b[0m\u001b[0;34m\u001b[0m\u001b[0m\n",
      "\u001b[0;32m~/anaconda3/lib/python3.6/site-packages/matplotlib/figure.py\u001b[0m in \u001b[0;36madd_subplot\u001b[0;34m(self, *args, **kwargs)\u001b[0m\n\u001b[1;32m   1072\u001b[0m                     \u001b[0mself\u001b[0m\u001b[0;34m.\u001b[0m\u001b[0m_axstack\u001b[0m\u001b[0;34m.\u001b[0m\u001b[0mremove\u001b[0m\u001b[0;34m(\u001b[0m\u001b[0max\u001b[0m\u001b[0;34m)\u001b[0m\u001b[0;34m\u001b[0m\u001b[0m\n\u001b[1;32m   1073\u001b[0m \u001b[0;34m\u001b[0m\u001b[0m\n\u001b[0;32m-> 1074\u001b[0;31m             \u001b[0ma\u001b[0m \u001b[0;34m=\u001b[0m \u001b[0msubplot_class_factory\u001b[0m\u001b[0;34m(\u001b[0m\u001b[0mprojection_class\u001b[0m\u001b[0;34m)\u001b[0m\u001b[0;34m(\u001b[0m\u001b[0mself\u001b[0m\u001b[0;34m,\u001b[0m \u001b[0;34m*\u001b[0m\u001b[0margs\u001b[0m\u001b[0;34m,\u001b[0m \u001b[0;34m**\u001b[0m\u001b[0mkwargs\u001b[0m\u001b[0;34m)\u001b[0m\u001b[0;34m\u001b[0m\u001b[0m\n\u001b[0m\u001b[1;32m   1075\u001b[0m \u001b[0;34m\u001b[0m\u001b[0m\n\u001b[1;32m   1076\u001b[0m         \u001b[0mself\u001b[0m\u001b[0;34m.\u001b[0m\u001b[0m_axstack\u001b[0m\u001b[0;34m.\u001b[0m\u001b[0madd\u001b[0m\u001b[0;34m(\u001b[0m\u001b[0mkey\u001b[0m\u001b[0;34m,\u001b[0m \u001b[0ma\u001b[0m\u001b[0;34m)\u001b[0m\u001b[0;34m\u001b[0m\u001b[0m\n",
      "\u001b[0;32m~/anaconda3/lib/python3.6/site-packages/matplotlib/axes/_subplots.py\u001b[0m in \u001b[0;36m__init__\u001b[0;34m(self, fig, *args, **kwargs)\u001b[0m\n\u001b[1;32m     62\u001b[0m                     raise ValueError(\n\u001b[1;32m     63\u001b[0m                         \"num must be 1 <= num <= {maxn}, not {num}\".format(\n\u001b[0;32m---> 64\u001b[0;31m                             maxn=rows*cols, num=num))\n\u001b[0m\u001b[1;32m     65\u001b[0m                 \u001b[0mself\u001b[0m\u001b[0;34m.\u001b[0m\u001b[0m_subplotspec\u001b[0m \u001b[0;34m=\u001b[0m \u001b[0mGridSpec\u001b[0m\u001b[0;34m(\u001b[0m\u001b[0mrows\u001b[0m\u001b[0;34m,\u001b[0m \u001b[0mcols\u001b[0m\u001b[0;34m)\u001b[0m\u001b[0;34m[\u001b[0m\u001b[0mint\u001b[0m\u001b[0;34m(\u001b[0m\u001b[0mnum\u001b[0m\u001b[0;34m)\u001b[0m \u001b[0;34m-\u001b[0m \u001b[0;36m1\u001b[0m\u001b[0;34m]\u001b[0m\u001b[0;34m\u001b[0m\u001b[0m\n\u001b[1;32m     66\u001b[0m                 \u001b[0;31m# num - 1 for converting from MATLAB to python indexing\u001b[0m\u001b[0;34m\u001b[0m\u001b[0;34m\u001b[0m\u001b[0m\n",
      "\u001b[0;31mValueError\u001b[0m: num must be 1 <= num <= 10, not 11"
     ]
    },
    {
     "data": {
      "image/png": "[encoded data removed]",
      "text/plain": [
       "<matplotlib.figure.Figure at 0x11c352b70>"
      ]
     },
     "metadata": {},
     "output_type": "display_data"
    }
   ],
   "source": [
    "#Our data does not appear to be normally distributed looking at the plots.\n",
    "\n",
    "fig = plt.figure(figsize = (16,8))\n",
    "\n",
    "for i, col in enumerate(num_df.columns):\n",
    "    fig.add_subplot(2, 5, 1+i)\n",
    "    plt.hist(num_df[col])\n",
    "    plt.title(col);\n",
    "\n",
    "#how does defining fig outside of the for loop affect the plot?\n",
    "#how does defining fig inside of the for loop affect the plot?\n",
    "#how does defining fig outside + subplots inside affect the plot?\n",
    "    #need another variable for plot positioning\n",
    "#how to return multiple plots per variable?\n",
    "\n",
    "#plt.hist([i for i in num_df[col]])"
   ]
  },
  {
   "cell_type": "code",
   "execution_count": null,
   "metadata": {},
   "outputs": [],
   "source": [
    "#QUESTION: Why do we specify location by ax for subplots here but with plt.add_subplot we can input one number to indicate the position?\n",
    "\n",
    "#import matplotlib.pyplot as plt\n",
    "#figure, ax = plt.subplots(nrows = 2, ncols = 6, figsize = (12,10))\n",
    "\n",
    "#num_df['participation_sat'].plot(kind = 'hist', ax = ax[0,0], title = 'participation_sat');\n",
    "#num_df['ebrw_sat'].plot(kind = 'hist', ax = ax[0,1], title = 'ebrw_sat');\n",
    "#num_df['math_sat'].plot(kind = 'hist', ax = ax[0,2], title = 'math_sat');\n",
    "#num_df['total_sat'].plot(kind = 'hist', ax = ax[0,3], title = 'total_sat');\n",
    "#num_df['participation_act'].plot(kind = 'hist', ax = ax[1,0], title = 'participation_act');\n",
    "#num_df['english_act'].plot(kind = 'hist', ax = ax[1,1], title = 'participation_sat');\n",
    "#num_df['math_act'].plot(kind = 'hist', ax = ax[1,2], title = 'math_act');\n",
    "#num_df['reading_act'].plot(kind = 'hist', ax = ax[1,3], title = 'reading_act');\n",
    "#num_df['science_act'].plot(kind = 'hist', ax = ax[1,4], title = 'science_act');\n",
    "#num_df['composite_act'].plot(kind = 'hist', ax = ax[1,5], title = 'composite_act');\n",
    "\n",
    "#plt.tight_layout()"
   ]
  },
  {
   "cell_type": "markdown",
   "metadata": {},
   "source": [
    "##### 21. Plot some scatterplots examining relationships between all variables."
   ]
  },
  {
   "cell_type": "code",
   "execution_count": null,
   "metadata": {},
   "outputs": [],
   "source": [
    "for i, col in enumerate(num_df.columns):\n",
    "    fig = plt.figure(figsize = (20,20))\n",
    "    for j, coltwo in enumerate(num_df.columns):\n",
    "        fig.add_subplot(5, 5, 1+j)\n",
    "        plt.scatter(x = num_df[col], y = num_df[coltwo])\n",
    "        plt.title(str(col).upper()+(' x ')+str(coltwo).upper());"
   ]
  },
  {
   "cell_type": "code",
   "execution_count": null,
   "metadata": {
    "scrolled": true
   },
   "outputs": [],
   "source": [
    "#figure, ax = plt.subplots(nrows = 2, ncols = 3, figsize = (10, 5))\n",
    "\n",
    "#num_df.plot.scatter('ebrw_sat','math_sat', ax = ax[0,0]);\n",
    "#num_df.plot.scatter('ebrw_sat','total_sat', ax = ax[0,1]);\n",
    "#num_df.plot.scatter('participation_sat','total_sat', ax = ax[0,2]);\n",
    "\n",
    "#num_df.plot.scatter('reading_act','math_act', ax = ax[1,0]);\n",
    "#num_df.plot.scatter('math_act', 'science_act', ax = ax[1,1]);\n",
    "#num_df.plot.scatter('participation_act','composite_act', ax = ax[1,2]);"
   ]
  },
  {
   "cell_type": "markdown",
   "metadata": {},
   "source": [
    "##### 22. Are there any interesting relationships to note?"
   ]
  },
  {
   "cell_type": "markdown",
   "metadata": {},
   "source": [
    "The participation rates tend to be lower for the highest total SAT / composite ACT scores. This may point to (self) selection bias: those who sign up to take the tests are high performing students."
   ]
  },
  {
   "cell_type": "markdown",
   "metadata": {},
   "source": [
    "##### 23. Create box plots for each variable. "
   ]
  },
  {
   "cell_type": "code",
   "execution_count": null,
   "metadata": {},
   "outputs": [],
   "source": [
    "fig = plt.figure(figsize = (20,14))\n",
    "\n",
    "for i, col in enumerate(num_df.columns):\n",
    "    fig.add_subplot(3, 4, 1+i)\n",
    "    plt.boxplot(num_df[col])\n",
    "    plt.title(col);\n",
    "    "
   ]
  },
  {
   "cell_type": "code",
   "execution_count": null,
   "metadata": {},
   "outputs": [],
   "source": [
    "#figure, ax = plt.subplots(nrows = 2, ncols = 6, figsize = (16,12))\n",
    "\n",
    "#num_df.boxplot('participation_sat', ax = ax[0,0]);\n",
    "#num_df.boxplot('ebrw_sat', ax = ax[0,1]);\n",
    "#num_df.boxplot('math_sat', ax = ax[0,2]);\n",
    "#num_df.boxplot('total_sat', ax = ax[0,3]);\n",
    "#num_df.boxplot('participation_act', ax = ax[1,0]);\n",
    "#num_df.boxplot('english_act', ax = ax[1,1]);\n",
    "#num_df.boxplot('reading_act', ax = ax[1,2]);\n",
    "#num_df.boxplot('math_act', ax = ax[1,3]);\n",
    "#num_df.boxplot('science_act', ax = ax[1,4]);\n",
    "#num_df.boxplot('composite_act', ax = ax[1,5]);\n",
    "#num_df.boxplot('verbal_act', ax = ax[0,5]);"
   ]
  },
  {
   "cell_type": "markdown",
   "metadata": {},
   "source": [
    "##### BONUS: Using Tableau, create a heat map for each variable using a map of the US. "
   ]
  },
  {
   "cell_type": "markdown",
   "metadata": {},
   "source": [
    "## Step 4: Descriptive and Inferential Statistics"
   ]
  },
  {
   "cell_type": "markdown",
   "metadata": {},
   "source": [
    "##### 24. Summarize each distribution. As data scientists, be sure to back up these summaries with statistics. (Hint: What are the three things we care about when describing distributions?)"
   ]
  },
  {
   "cell_type": "code",
   "execution_count": null,
   "metadata": {},
   "outputs": [],
   "source": [
    "import scipy.stats as stats\n",
    "from scipy.stats import skew\n",
    "import seaborn as sns\n",
    "import numpy as np\n",
    "import matplotlib.pyplot as plt\n",
    "\n",
    "#shape, center, spread\n",
    "\n",
    "#row 51 = sd\n",
    "#adding row 52 for mean\n",
    "num_df.loc[52, 'participation_sat': 'verbal_act'] = [num_df[i].mean() for i in num_df.columns]\n",
    "\n",
    "#adding row 53 for median\n",
    "num_df.loc[53, 'participation_sat': 'verbal_act'] = [num_df[i].median() for i in num_df.columns]\n",
    "\n",
    "#adding row 54 for range\n",
    "num_df.loc[54, 'participation_sat': 'verbal_act'] = [num_df[i].max() - num_df[i].min() for i in num_df.columns]\n",
    "\n",
    "#adding row 55 for skew\n",
    "num_df.loc[55, 'participation_sat': 'verbal_act'] = [skew(num_df[i]) for i in num_df.columns]\n",
    "num_df.tail()\n",
    "\n",
    "#QUESTION: to add in how many outliers (test-statistic outside of 3 std deviations away from the norm) in each column?\n",
    "    #stats.norm.pdf"
   ]
  },
  {
   "cell_type": "markdown",
   "metadata": {},
   "source": [
    "Participation rate for the SAT is skewed slightly right (positive, multi-modal), EBRW/Math and Total SAT scores are skewed left (negative).\n",
    "\n",
    "Participation rate for the ACT is skewed slightly left (positive, bimodal in plot), all portions of ACT scores are skewed left (negative)."
   ]
  },
  {
   "cell_type": "markdown",
   "metadata": {},
   "source": [
    "##### 25. Summarize each relationship. Be sure to back up these summaries with statistics."
   ]
  },
  {
   "cell_type": "code",
   "execution_count": null,
   "metadata": {},
   "outputs": [],
   "source": [
    "#Step 1. Set null and alternate hypotheses\n",
    "#Null: There is no difference between SAT and ACT participation rates on average.\n",
    "#Alternate: There is a difference between SAT and ACT participation rates on average."
   ]
  },
  {
   "cell_type": "code",
   "execution_count": null,
   "metadata": {},
   "outputs": [],
   "source": [
    "#Step 2. Set alpha - given\n",
    "a = 0.05"
   ]
  },
  {
   "cell_type": "code",
   "execution_count": null,
   "metadata": {},
   "outputs": [],
   "source": [
    "#Step 3. Calculate point estimate\n",
    "sat_mean = np.mean(merged_df['participation_sat'])\n",
    "act_mean = np.mean(merged_df['participation_act'])\n",
    "print('sat_mean: ', sat_mean, ', act_mean: ', act_mean, ', point_estimate: ', sat_mean - act_mean)"
   ]
  },
  {
   "cell_type": "markdown",
   "metadata": {},
   "source": [
    "##### 26. Execute a hypothesis test comparing the SAT and ACT participation rates. Use $\\alpha = 0.05$. Be sure to interpret your results."
   ]
  },
  {
   "cell_type": "code",
   "execution_count": null,
   "metadata": {},
   "outputs": [],
   "source": [
    "#Step 4. Calculate a t-statistic\n",
    "#manual attempt\n",
    "numer = sat_mean - act_mean\n",
    "denom = np.sqrt((np.var(merged_df['participation_sat']) / (len(merged_df['participation_sat'])-1)) + (np.var(merged_df['participation_act']) / (len(merged_df['participation_act'])-1)))\n",
    "t = numer / denom\n",
    "print('t-statistic: ', t)\n",
    "\n",
    "#with function\n",
    "result = stats.ttest_ind(merged_df['participation_sat'], merged_df['participation_act'])"
   ]
  },
  {
   "cell_type": "code",
   "execution_count": null,
   "metadata": {},
   "outputs": [],
   "source": [
    "#visualization of a normal distribution\n",
    "xpoints = np.linspace(-4,4,500)\n",
    "ypoints = stats.t.pdf(xpoints, (len(merged_df['participation_sat'])+len(merged_df['participation_act'])-2))\n",
    "\n",
    "import matplotlib.pyplot as plt\n",
    "fig = plt.figure(figsize = (8,5))\n",
    "ax = fig.gca()\n",
    "ax.plot(xpoints, ypoints);\n",
    "\n",
    "#showing our t-statistic as a reference line\n",
    "ax.axvline(t, color = 'black', linestyle = '--');"
   ]
  },
  {
   "cell_type": "code",
   "execution_count": null,
   "metadata": {},
   "outputs": [],
   "source": [
    "#Step 5. Calculate p-value and interpret conclusion\n",
    "#manual\n",
    "lower_tail = stats.t.cdf(-abs(t), len(merged_df['participation_sat'])+len(merged_df['participation_act'])-2)\n",
    "upper_tail = 1 - stats.t.cdf(abs(t), len(merged_df['participation_sat'])+len(merged_df['participation_act'])-2)\n",
    "p = lower_tail + upper_tail\n",
    "print('p-value: ', p)\n",
    "\n",
    "#with function\n",
    "result = stats.ttest_ind(merged_df['participation_sat'], merged_df['participation_act'])"
   ]
  },
  {
   "cell_type": "markdown",
   "metadata": {},
   "source": [
    "Our p-value of 0.0002 is less than our alpha of 0.05: we find it extremely unlikely that the true population difference between all SAT and ACT mean participation rates is 0 is extremely small. We reject our null hypothesis - it is likely that SAT and ACT mean participation rates differ."
   ]
  },
  {
   "cell_type": "markdown",
   "metadata": {},
   "source": [
    "##### 27. Generate and interpret 95% confidence intervals for SAT and ACT participation rates."
   ]
  },
  {
   "cell_type": "code",
   "execution_count": 317,
   "metadata": {},
   "outputs": [
    {
     "name": "stdout",
     "output_type": "stream",
     "text": [
      "sat_1.96ci:  0.30217467067592396 , 0.4939037606966251\n",
      "act_1.96ci:  0.5652060109975313 , 0.7398920282181548\n"
     ]
    }
   ],
   "source": [
    "#manual\n",
    "\n",
    "#for 95% CI\n",
    "z=1.96\n",
    "#for 99.5% CI\n",
    "#z=2.575\n",
    "\n",
    "sat_mean = np.mean(merged_df['participation_sat'])\n",
    "sat_sem = (np.std(merged_df['participation_sat']) / np.sqrt(len(merged_df['participation_sat'])))\n",
    "sat_ci_lower = sat_mean - z*sat_sem\n",
    "sat_ci_upper = sat_mean + z*sat_sem\n",
    "print('sat_'+str(z)+'ci: ', sat_ci_lower, ',', sat_ci_upper)\n",
    "\n",
    "act_mean = np.mean(merged_df['participation_act'])\n",
    "act_sem = (np.std(merged_df['participation_act']) / np.sqrt(len(merged_df['participation_act'])))\n",
    "\n",
    "act_ci_lower = act_mean - z*act_sem\n",
    "act_ci_upper = act_mean + z*act_sem\n",
    "print('act_'+str(z)+'ci: ', act_ci_lower, ',', act_ci_upper)\n",
    "\n",
    "#function\n",
    "import scipy.stats as stats\n",
    "sat_ci = stats.norm.interval(0.95, loc= np.mean(merged_df['participation_sat']), scale= stats.sem(merged_df['participation_sat']))\n",
    "act_ci = stats.norm.interval(0.95, loc= np.mean(merged_df['participation_act']), scale= stats.sem(merged_df['participation_act']))\n",
    "#print ('sat_ci: ', sat_ci, '\\n', 'act_ci: ', act_ci)"
   ]
  },
  {
   "cell_type": "code",
   "execution_count": 411,
   "metadata": {},
   "outputs": [
    {
     "data": {
      "image/png": "[encoded data removed]",
      "text/plain": [
       "<matplotlib.figure.Figure at 0x11e325dd8>"
      ]
     },
     "metadata": {},
     "output_type": "display_data"
    }
   ],
   "source": [
    "# Initialize a matplotlib \"figure:\" for SAT participation rates:\n",
    "fig = plt.figure(figsize=(15,8))\n",
    "#fill area under overlapping curves: represents likelihood H0 of no mean difference in tests is true\n",
    "plt.fill_between(x = (sat_ci_upper, act_ci_lower), y1 = (0.25, 0.25), where = True, color = 'y', label = 'Likelihood H0 is true')\n",
    "ax = fig.gca()\n",
    "\n",
    "zx = np.linspace(sat_mean-3.5*sat_sem, sat_mean+3.5*sat_sem, 250)\n",
    "\n",
    "Z = stats.norm(sat_mean, sat_sem)\n",
    "zy = Z.pdf(zx)\n",
    "\n",
    "#sat_mean\n",
    "ax.axvline(sat_mean, ls='solid', lw=2, color='darkblue', alpha=0.5, label='sat_mean')\n",
    "\n",
    "# 90%:\n",
    "ax.axvline(sat_mean-1.645*sat_sem, ls='dashed', lw=2, color='#222222', alpha=0.5)\n",
    "ax.axvline(sat_mean+1.645*sat_sem, ls='dashed', lw=2, color='#333333', alpha=0.5, label='z=1.645, 90%')\n",
    "\n",
    "# 95%:\n",
    "ax.axvline(sat_mean-1.96*sat_sem, ls='dashed', lw=2, color='#666666', alpha=0.5)\n",
    "ax.axvline(sat_mean+1.96*sat_sem, ls='dashed', lw=2, color='#666666', alpha=0.5, label='z=1.96, 95%')\n",
    "\n",
    "# 99%:\n",
    "ax.axvline(sat_mean-2.575*sat_sem, ls='dashed', lw=2, color='#999999', alpha=0.5)\n",
    "ax.axvline(sat_mean+2.575*sat_sem, ls='dashed', lw=2, color='#999999', alpha=0.5, label='z=2.575, 99%')\n",
    "\n",
    "ax.plot(zx, zy, linewidth=4, color='darkblue')\n",
    "ax.legend(loc='upper left')\n",
    "\n",
    "################################################################\n",
    "# Initialize a matplotlib \"figure:\" for ACT participation rates:\n",
    "\n",
    "#for separate plots\n",
    "#fig2 = plt.figure(figsize=(10,5))\n",
    "    #ax2 = fig2.gca()\n",
    "ax2 = fig.gca()\n",
    "\n",
    "zx2 = np.linspace(act_mean-3.5*act_sem, act_mean+3.5*act_sem, 250)\n",
    "\n",
    "Z = stats.norm(act_mean, act_sem)\n",
    "zy2 = Z.pdf(zx2)\n",
    "\n",
    "#act_mean\n",
    "ax.axvline(act_mean, ls='solid', lw=2, color='darkred', alpha=0.5, label='act_mean')\n",
    "\n",
    "# 90%:\n",
    "ax2.axvline(act_mean-1.645*act_sem, ls='dotted', lw=2, color='#333333', alpha=0.7)\n",
    "ax2.axvline(act_mean+1.645*act_sem, ls='dotted', lw=2, color='#333333', alpha=0.7, label='z=1.645, 90%')\n",
    "\n",
    "# 95%:\n",
    "ax2.axvline(act_mean-1.96*act_sem, ls='dotted', lw=2, color='#666666', alpha=0.7)\n",
    "ax2.axvline(act_mean+1.96*act_sem, ls='dotted', lw=2, color='#666666', alpha=0.7, label='z=1.96, 95%')\n",
    "\n",
    "# 99%:\n",
    "ax2.axvline(act_mean-2.575*act_sem, ls='dotted', lw=2, color='#999999', alpha=0.7)\n",
    "ax2.axvline(act_mean+2.575*act_sem, ls='dotted', lw=2, color='#999999', alpha=0.7, label='z=2.575, 99%')\n",
    "\n",
    "ax2.plot(zx2, zy2, linewidth=4, color='darkred')\n",
    "ax2.legend(loc='upper right')\n",
    "\n",
    "################################################################\n",
    "fig.suptitle('SAT / ACT Participation Rate CIs', fontsize = 20, weight = 'bold');"
   ]
  },
  {
   "cell_type": "markdown",
   "metadata": {},
   "source": [
    "Interpretation: Given our p-value is so small, we would expect to see the 95% confidence intervals of SAT and ACT mean participation rates not to overlap much. The 95% CIs do not overlap at all - the likelihood that the mean participation rates for the two tests are similar is very small.\n",
    "\n",
    "If we calculate a 99.5% confidence interval, we see that there is slight overlap between the two test means: sat_ci_upper_tail is 53.7% and act_ci_lower_tail is 52.6%. The range between 52.6% and 53.7% is 1.1%. Only in extreme outlier cases would the SAT and ACT mean participation rates show little difference."
   ]
  },
  {
   "cell_type": "markdown",
   "metadata": {},
   "source": [
    "##### 28. Given your answer to 26, was your answer to 27 surprising? Why?"
   ]
  },
  {
   "cell_type": "markdown",
   "metadata": {},
   "source": [
    "No, 27 confirms our interpretation in 26 - it is unlikely that the two participation rates are similar because a small p-value gives us confidence to reject the null, and we saw with the two CIs more evidence that the chance of the null hypothesis being true is very small (visually the area under the two 99.5% CIs that overlap is the probability of the null holding true)."
   ]
  },
  {
   "cell_type": "markdown",
   "metadata": {},
   "source": [
    "##### 29. Is it appropriate to generate correlation between SAT and ACT math scores? Why?"
   ]
  },
  {
   "cell_type": "code",
   "execution_count": 56,
   "metadata": {},
   "outputs": [
    {
     "data": {
      "text/html": [
       "<div>\n",
       "<style scoped>\n",
       "    .dataframe tbody tr th:only-of-type {\n",
       "        vertical-align: middle;\n",
       "    }\n",
       "\n",
       "    .dataframe tbody tr th {\n",
       "        vertical-align: top;\n",
       "    }\n",
       "\n",
       "    .dataframe thead th {\n",
       "        text-align: right;\n",
       "    }\n",
       "</style>\n",
       "<table border=\"1\" class=\"dataframe\">\n",
       "  <thead>\n",
       "    <tr style=\"text-align: right;\">\n",
       "      <th></th>\n",
       "      <th>math_sat</th>\n",
       "      <th>math_act</th>\n",
       "    </tr>\n",
       "  </thead>\n",
       "  <tbody>\n",
       "    <tr>\n",
       "      <th>math_sat</th>\n",
       "      <td>1.000000</td>\n",
       "      <td>-0.340906</td>\n",
       "    </tr>\n",
       "    <tr>\n",
       "      <th>math_act</th>\n",
       "      <td>-0.340906</td>\n",
       "      <td>1.000000</td>\n",
       "    </tr>\n",
       "  </tbody>\n",
       "</table>\n",
       "</div>"
      ],
      "text/plain": [
       "          math_sat  math_act\n",
       "math_sat  1.000000 -0.340906\n",
       "math_act -0.340906  1.000000"
      ]
     },
     "execution_count": 56,
     "metadata": {},
     "output_type": "execute_result"
    }
   ],
   "source": [
    "math_corr = np.corrcoef(merged_df['math_sat'], merged_df['math_act'])\n",
    "merged_df.loc[:, ['math_sat', 'math_act']].corr()"
   ]
  },
  {
   "cell_type": "code",
   "execution_count": 416,
   "metadata": {},
   "outputs": [
    {
     "data": {
      "image/png": "[encoded data removed]",
      "text/plain": [
       "<matplotlib.figure.Figure at 0x11ff0b0f0>"
      ]
     },
     "metadata": {},
     "output_type": "display_data"
    }
   ],
   "source": [
    "import seaborn as sns\n",
    "\n",
    "#for math scores\n",
    "fig = plt.figure(figsize = (8,8))\n",
    "ax=fig.gca()\n",
    "\n",
    "sns.heatmap(np.abs(merged_df.loc[:, ['math_sat', 'math_act']].corr()), annot = True, ax=ax);\n",
    "ax.set_ylabel('Variables', fontsize = 16);"
   ]
  },
  {
   "cell_type": "code",
   "execution_count": 414,
   "metadata": {},
   "outputs": [
    {
     "data": {
      "image/png": "[encoded data removed]",
      "text/plain": [
       "<matplotlib.figure.Figure at 0x12235c748>"
      ]
     },
     "metadata": {},
     "output_type": "display_data"
    }
   ],
   "source": [
    "#for all variables\n",
    "fig = plt.figure(figsize = (8,8))\n",
    "ax=fig.gca()\n",
    "\n",
    "sns.heatmap(np.abs(merged_df.corr()), annot = True, ax=ax);\n",
    "ax.set_ylabel('Variables', fontsize = 16);"
   ]
  },
  {
   "cell_type": "markdown",
   "metadata": {},
   "source": [
    "Correlation here may make sense if there is significant overlap between students who take both the SAT and the ACT. For this group, if we see high math scores on the SAT, we would expect high math scores on the ACT. However, we'd need to subset the data to only represent this conditional group - otherwise the correlation is too noisy. If we are able to subset, the correlation would tell us whether our expectation is true: the closer r is to +1, the stronger the relationship between math scores on both tests."
   ]
  },
  {
   "cell_type": "markdown",
   "metadata": {},
   "source": [
    "##### 30. Suppose we only seek to understand the relationship between SAT and ACT data in 2017. Does it make sense to conduct statistical inference given the data we have? Why?"
   ]
  },
  {
   "cell_type": "markdown",
   "metadata": {},
   "source": [
    "No, because in that case our population is 2017, so we can calculate the true population statistics and do not need to infer. Our inference extends to the true population mean for understanding the relationship between SAT and ACT data beyond the year of 2017."
   ]
  }
 ],
 "metadata": {
  "anaconda-cloud": {},
  "kernelspec": {
   "display_name": "Python [default]",
   "language": "python",
   "name": "python3"
  },
  "language_info": {
   "codemirror_mode": {
    "name": "ipython",
    "version": 3
   },
   "file_extension": ".py",
   "mimetype": "text/x-python",
   "name": "python",
   "nbconvert_exporter": "python",
   "pygments_lexer": "ipython3",
   "version": "3.6.4"
  }
 },
 "nbformat": 4,
 "nbformat_minor": 1
}
